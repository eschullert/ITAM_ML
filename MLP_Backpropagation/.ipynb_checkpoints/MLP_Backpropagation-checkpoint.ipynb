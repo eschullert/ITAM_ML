{
 "cells": [
  {
   "cell_type": "markdown",
   "id": "b40ab703-b4b2-4a24-9e33-82c366367f83",
   "metadata": {},
   "source": [
    "# Multi-Layer Perceptron"
   ]
  },
  {
   "cell_type": "markdown",
   "id": "72429ae0-2c9e-4532-a55a-9821fb07906e",
   "metadata": {},
   "source": [
    "## Introduction"
   ]
  },
  {
   "cell_type": "markdown",
   "id": "2f2f5bb8-c679-494d-b7e6-fee1b572862e",
   "metadata": {},
   "source": [
    "In this homework we will be discussing and implementing a multi-layer perceptron (MLP). The perceprton model was developed in 1969 by Minsky and Papert, and it is inspired in biological neurons. The model of a single neuron (perceptron) consists in various weights for the different inputs, which are passed through a weighted sum and an activation function to produce an output. There are different activation functions like the sigmoid, tanh or ReLU. Below, we can see a representation of a single perceptron.\n",
    "<center><img src=\"imgs/perceptron.png\" width = \"300\"/></center>"
   ]
  },
  {
   "cell_type": "markdown",
   "id": "a0090ca3-2a1e-4c7d-bbbe-1008cb12a1bb",
   "metadata": {},
   "source": [
    "Multi-Layer Perceptrons consist in a feedforward network of many layers. Each layer has various perceptrons, which outputs are treated as the input of the next layer; fully connected layers like these are called *Dense Layers*. In the following image we can see a multi-layer perceptron, each of the nodes in the graph are perceptrons.\n",
    "<center><img src=\"imgs/neural_network.png\" width = \"300\"/></center>"
   ]
  },
  {
   "cell_type": "markdown",
   "id": "2ee12d24-b5a3-429d-9bf2-28edcb5b4b15",
   "metadata": {},
   "source": [
    "## Imports and utility functions"
   ]
  },
  {
   "cell_type": "code",
   "execution_count": 30,
   "id": "4d9b6530-512c-45fe-a2e5-f97eef0b6ba0",
   "metadata": {
    "tags": []
   },
   "outputs": [],
   "source": [
    "using DelimitedFiles\n",
    "using Statistics\n",
    "using LinearAlgebra\n",
    "using Plots"
   ]
  },
  {
   "cell_type": "code",
   "execution_count": 29,
   "id": "9f8db2b4-8269-4a0c-bfbb-0fe6c92e2226",
   "metadata": {},
   "outputs": [],
   "source": [
    "function append_ones(mat::Matrix{Float64})\n",
    "    \"\"\"\n",
    "    Function to append a row of ones at the end of a matrix. This is for the biases in a\n",
    "    neuron.\n",
    "    \n",
    "    Input:\n",
    "        mat(Matrix{Float64}): matrix\n",
    "    \n",
    "    Output:\n",
    "        Matrix with row of ones at the end.\n",
    "    \"\"\"\n",
    "    return vcat(mat, ones(1, size(mat, 2)))\n",
    "end;"
   ]
  },
  {
   "cell_type": "markdown",
   "id": "cb24ec21-13be-4e1d-80b3-ed8b3e897156",
   "metadata": {},
   "source": [
    "## Activation Functions"
   ]
  },
  {
   "cell_type": "code",
   "execution_count": 1,
   "id": "4b2ad930-a7f5-4585-a3b3-6d0c688562aa",
   "metadata": {},
   "outputs": [],
   "source": [
    "abstract type ActivationFunction end;"
   ]
  },
  {
   "cell_type": "markdown",
   "id": "947ebb46-56b9-4d2e-833e-d6fd42230c30",
   "metadata": {},
   "source": [
    "### Linear"
   ]
  },
  {
   "cell_type": "code",
   "execution_count": 2,
   "id": "59e92573-157e-4bb7-9356-9153ae82d044",
   "metadata": {},
   "outputs": [],
   "source": [
    "linear_activation(params::Matrix{Float64}, input::Matrix{Float64}) = params * append_ones(input);"
   ]
  },
  {
   "cell_type": "code",
   "execution_count": 3,
   "id": "44c5f7d7-7cf4-4a9f-a1b1-000f591b0bfa",
   "metadata": {},
   "outputs": [],
   "source": [
    "struct LinearActivation <: ActivationFunction\n",
    "    func::Function\n",
    "    derivative::Function\n",
    "    function LinearActivation()\n",
    "        new(linear_activation, x -> 1)\n",
    "    end\n",
    "end;"
   ]
  },
  {
   "cell_type": "markdown",
   "id": "243ca4b5-4af1-4cd7-a7d6-0839dbb399f0",
   "metadata": {},
   "source": [
    "### Sigmoid"
   ]
  },
  {
   "cell_type": "markdown",
   "id": "4e0ff802-be1f-4a77-b3ab-bffa26f7f51a",
   "metadata": {},
   "source": [
    "Sigmoid activation function looks like:\n",
    "$$\n",
    "\\begin{align}\n",
    "sigmoid(x) &= \\frac{1}{1+e^{-x}}\\\\\n",
    "&= \\frac{e^x}{e^x+1}\n",
    "\\end{align}\n",
    "$$\n",
    "<center><img src=\"imgs/sigmoid.png\" width = \"200\"/></center>"
   ]
  },
  {
   "cell_type": "code",
   "execution_count": 4,
   "id": "ddd2ee8f-eb06-4c32-8c7d-7ce207d47b2e",
   "metadata": {},
   "outputs": [],
   "source": [
    "sigmoid_activation(params::Matrix{Float64}, input::Matrix{Float64}) = 1.0 ./ (1 .+ exp.(-params * append_ones(input)));"
   ]
  },
  {
   "cell_type": "code",
   "execution_count": 5,
   "id": "e0d51951-4850-45c1-b30d-e4b210fdd4d4",
   "metadata": {},
   "outputs": [],
   "source": [
    "sigmoid_derivative(input::Matrix{Float64}) = input .* (-input .+ 1);"
   ]
  },
  {
   "cell_type": "code",
   "execution_count": 6,
   "id": "885958b2-1004-4021-93d9-97f13f98c213",
   "metadata": {},
   "outputs": [],
   "source": [
    "struct Sigmoid_Activation <: ActivationFunction\n",
    "    func::Function\n",
    "    derivative::Function\n",
    "    function Sigmoid_Activation()\n",
    "        new(sigmoid_activation, sigmoid_derivative)\n",
    "    end\n",
    "end;"
   ]
  },
  {
   "cell_type": "markdown",
   "id": "934257a9-d33a-4bdd-aa84-64721d05b469",
   "metadata": {},
   "source": [
    "### ReLU"
   ]
  },
  {
   "cell_type": "markdown",
   "id": "364198eb-48e3-4b45-91d5-74970d07c30f",
   "metadata": {},
   "source": [
    "ReLU activation function looks like:\n",
    "$$\n",
    "f(x)=\n",
    "\\begin{cases}\n",
    "0, \\qquad x<0\\\\\n",
    "x, \\qquad x\\ge0\n",
    "\\end{cases}\n",
    "$$\n",
    "<center><img src=\"imgs/relu.png\" width = \"200\"/></center>"
   ]
  },
  {
   "cell_type": "code",
   "execution_count": 7,
   "id": "f8f42a8d-821f-4f7f-bf39-651ca7a28ea2",
   "metadata": {},
   "outputs": [],
   "source": [
    "function relu_activation(params::Matrix{Float64}, input::Matrix{Float64})\n",
    "    z = params * append_ones(input)\n",
    "    return z .* (z .> 0)\n",
    "end;"
   ]
  },
  {
   "cell_type": "code",
   "execution_count": 8,
   "id": "5440228e-d27b-4cfe-9e28-b822088a8170",
   "metadata": {},
   "outputs": [],
   "source": [
    "function relu_derivative(input::Matrix{Float64})\n",
    "    return Int.(input.>0)\n",
    "end;"
   ]
  },
  {
   "cell_type": "code",
   "execution_count": 9,
   "id": "f9ba63c8-bff5-4878-8899-60afd8888899",
   "metadata": {},
   "outputs": [],
   "source": [
    "struct ReLU_Activation <: ActivationFunction\n",
    "    func::Function\n",
    "    derivative::Function\n",
    "    function ReLU_Activation()\n",
    "        new(relu_activation, relu_derivative)\n",
    "    end\n",
    "end;"
   ]
  },
  {
   "cell_type": "markdown",
   "id": "167305d3-3a4d-41da-b143-a5e373e135d1",
   "metadata": {},
   "source": [
    "### Tanh"
   ]
  },
  {
   "cell_type": "markdown",
   "id": "e1fdcb14-3fa5-48c8-b63d-fba97a566282",
   "metadata": {},
   "source": [
    "Tanh is the hyperbolic tangent, described as:\n",
    "$$\n",
    "\\tanh(x) = \\frac{\\sinh(x)}{\\cosh(x)} = \\frac{e^x - e^{-x}}{e^x + e^{-x}}\n",
    "$$\n",
    "<center><img src=\"imgs/tanh.png\" width = \"200\"/></center>"
   ]
  },
  {
   "cell_type": "code",
   "execution_count": 10,
   "id": "0fc02670-e1ff-48a7-9746-14c07bca0089",
   "metadata": {},
   "outputs": [],
   "source": [
    "tanh_activation(params::Matrix{Float64}, input::Matrix{Float64}) = tanh.(params*append_ones(input));   "
   ]
  },
  {
   "cell_type": "code",
   "execution_count": 11,
   "id": "844c06d8-b330-4b53-b17f-ea821156efa4",
   "metadata": {},
   "outputs": [],
   "source": [
    "tanh_derivative(input::Matrix{Float64}) = sech.(input).^2;"
   ]
  },
  {
   "cell_type": "code",
   "execution_count": 12,
   "id": "f1d74f0a-a26a-4cfe-9f0a-3281e9a642d3",
   "metadata": {},
   "outputs": [],
   "source": [
    "struct Tanh_Activation <: ActivationFunction\n",
    "    func::Function\n",
    "    derivative::Function\n",
    "    function Tanh_Activation()\n",
    "        new(tanh_activation, tanh_derivative)\n",
    "    end\n",
    "end;"
   ]
  },
  {
   "cell_type": "markdown",
   "id": "19c08953-342c-428e-947a-90c4d4387e47",
   "metadata": {},
   "source": [
    "### Softmax"
   ]
  },
  {
   "cell_type": "markdown",
   "id": "74db30bb-3ba2-4e5a-862c-742a4dc4406c",
   "metadata": {},
   "source": [
    "Softmax is an activation function that only works for normalization.\n",
    "$$\n",
    "\\sigma_k(x) = \\frac{e^{x_k}}{\\sum_i^N e^{x_i}}\n",
    "$$"
   ]
  },
  {
   "cell_type": "code",
   "execution_count": 13,
   "id": "a2467438-baa9-4ae1-b6a4-15ee2ad3f90c",
   "metadata": {},
   "outputs": [],
   "source": [
    "function softmax_activation(params::Matrix{Float64}, input::Matrix{Float64})\n",
    "    \"\"\"\n",
    "    Stable form of softmax function. Other form has numerical stability issues so\n",
    "    this form is used to fix that.\n",
    "    \"\"\"\n",
    "    exps = input.-maximum(input, dims=1)\n",
    "    return exp.(exps)./sum(exp.(exps), dims=1)\n",
    "end;"
   ]
  },
  {
   "cell_type": "code",
   "execution_count": 14,
   "id": "73ec2faf-1844-4517-80e4-a580b12c0926",
   "metadata": {},
   "outputs": [],
   "source": [
    "struct Softmax_Activation <: ActivationFunction\n",
    "    func::Function\n",
    "    function Softmax_Activation()\n",
    "        new(softmax_activation)\n",
    "    end\n",
    "end;"
   ]
  },
  {
   "cell_type": "markdown",
   "id": "01c3f54a-80b4-43fe-8728-da633185c222",
   "metadata": {},
   "source": [
    "## Layers"
   ]
  },
  {
   "cell_type": "markdown",
   "id": "70ce58a9-1ca4-454b-97d2-7f73c954885d",
   "metadata": {},
   "source": [
    "First we define an abstract type of a layer, because there are different types of layers, then we can code the type of a dense layer."
   ]
  },
  {
   "cell_type": "code",
   "execution_count": 15,
   "id": "b557711a-8e46-41f6-92fe-193d606cfb8c",
   "metadata": {},
   "outputs": [],
   "source": [
    "abstract type Layer end"
   ]
  },
  {
   "cell_type": "code",
   "execution_count": 16,
   "id": "df57b5ca-351c-45cd-9fbe-be25bcec5310",
   "metadata": {},
   "outputs": [],
   "source": [
    "struct Dense <: Layer\n",
    "    \"\"\"\n",
    "    Layer with fully connected neurons.\n",
    "    \"\"\"\n",
    "    input_size::Int64\n",
    "    num_neurons::Int64\n",
    "    parameters::Matrix{Float64}\n",
    "    activation::ActivationFunction\n",
    "    \n",
    "    function Dense(input_size::Int, num_neurons::Int, activation::ActivationFunction)\n",
    "        parameters = randn(num_neurons, input_size + 1) # adding 1 col for biases\n",
    "        return new(input_size, num_neurons, parameters, activation)\n",
    "    end\n",
    "end"
   ]
  },
  {
   "cell_type": "code",
   "execution_count": 17,
   "id": "a5ce15da-6d34-4bc6-b188-edcaec0f7ad1",
   "metadata": {},
   "outputs": [],
   "source": [
    "struct Softmax <: Layer\n",
    "    \"\"\"\n",
    "    Layer with an exponential normalizer (softmax activation) activation function.\n",
    "    This layer is normally used only as the last layer of a neural network to normalize\n",
    "    the outputs before the prediction.\n",
    "    \"\"\"\n",
    "    parameters::Matrix{Float64}\n",
    "    activation::ActivationFunction\n",
    "    num_neurons::Int64\n",
    "    \n",
    "    function Softmax(num_neurons::Int)\n",
    "        return new(Matrix{Float64}(undef,0,0), Softmax_Activation(), num_neurons)\n",
    "    end\n",
    "end;"
   ]
  },
  {
   "cell_type": "markdown",
   "id": "6a283bf2-1b4f-4e0a-ba7d-7950d849f7a8",
   "metadata": {},
   "source": [
    "Now we define a neural network. Which is the generalized form of a MLP. A neural network is really just many layers with an optimization function."
   ]
  },
  {
   "cell_type": "code",
   "execution_count": 18,
   "id": "5e8a60f8-589b-4dd8-851c-c857b771a604",
   "metadata": {},
   "outputs": [],
   "source": [
    "struct NetworkArchitecture\n",
    "    \"\"\"\n",
    "    Structure for complete neural network.\n",
    "    \"\"\"\n",
    "    layers::Array{Layer}\n",
    "    \n",
    "    function NetworkArchitecture(first_layer::Layer)\n",
    "        return new([first_layer])\n",
    "    end\n",
    "end"
   ]
  },
  {
   "cell_type": "markdown",
   "id": "6aadf06b-4233-42d4-b307-9c233fbcf7d1",
   "metadata": {},
   "source": [
    "We add functions to add new layers and to predict data from an input."
   ]
  },
  {
   "cell_type": "code",
   "execution_count": 19,
   "id": "a425b4d0-280a-4b4e-9a6b-ea094b6030b9",
   "metadata": {},
   "outputs": [],
   "source": [
    "function add_Dense_Layer!(network::NetworkArchitecture, num_neurons::Int64, activation::ActivationFunction)\n",
    "    \"\"\"\n",
    "    Adds a dense layer to the end of a neural network.\n",
    "    \"\"\"\n",
    "    input_size = network.layers[end].num_neurons\n",
    "    new_layer = Dense(input_size, num_neurons, activation)\n",
    "    push!(network.layers, new_layer)\n",
    "end;"
   ]
  },
  {
   "cell_type": "code",
   "execution_count": 20,
   "id": "03657fa6-b65d-4c5c-aee7-956592491473",
   "metadata": {},
   "outputs": [],
   "source": [
    "function add_Softmax_Layer!(network::NetworkArchitecture)\n",
    "    \"\"\"\n",
    "    Adds a softmax layer at the end of a neural network.\n",
    "    \"\"\"\n",
    "    num_neurons = input_size = network.layers[end].num_neurons\n",
    "    push!(network.layers, Softmax(num_neurons))\n",
    "end;"
   ]
  },
  {
   "cell_type": "code",
   "execution_count": 21,
   "id": "4c9b9994-edae-4f53-bdbf-e442f7c0531f",
   "metadata": {},
   "outputs": [],
   "source": [
    "function predict(network::NetworkArchitecture, input::Matrix{Float64})\n",
    "    \"\"\"\n",
    "    Predicts the output of a neural network with a certain input.\n",
    "    \"\"\"\n",
    "    res = input\n",
    "    for layer in network.layers\n",
    "        res = layer.activation.func(layer.parameters, res)\n",
    "    end\n",
    "    return res\n",
    "end;"
   ]
  },
  {
   "cell_type": "markdown",
   "id": "38db64c6-6226-4081-8c2a-422e1a1d739a",
   "metadata": {},
   "source": [
    "Now we try it!"
   ]
  },
  {
   "cell_type": "code",
   "execution_count": 22,
   "id": "c9a1e011-2f6e-4bfe-9a68-ef6015178db2",
   "metadata": {},
   "outputs": [],
   "source": [
    "data_len = 100;\n",
    "num_classes = 10;"
   ]
  },
  {
   "cell_type": "code",
   "execution_count": 23,
   "id": "45285d1d-67a4-4535-83b4-6c7106d1a7c3",
   "metadata": {},
   "outputs": [],
   "source": [
    "input = randn(784,data_len);"
   ]
  },
  {
   "cell_type": "code",
   "execution_count": 24,
   "id": "dfb9d2c0-9249-4ff2-996f-96a3109994cd",
   "metadata": {},
   "outputs": [],
   "source": [
    "labels = mapslices(x -> begin x[rand(1:num_classes,1)] .= 1; x end, zeros(num_classes,data_len) , dims = 1);"
   ]
  },
  {
   "cell_type": "code",
   "execution_count": 25,
   "id": "5ae51f84-eaeb-43fa-aae8-f72c88666c9e",
   "metadata": {},
   "outputs": [],
   "source": [
    "first_layer = Dense(784, 250, Sigmoid_Activation())\n",
    "network = NetworkArchitecture(first_layer)\n",
    "add_Dense_Layer!(network, 50, Sigmoid_Activation());\n",
    "add_Dense_Layer!(network, num_classes, Sigmoid_Activation());\n",
    "add_Softmax_Layer!(network);"
   ]
  },
  {
   "cell_type": "code",
   "execution_count": 31,
   "id": "85cf8ca9-0b2a-439b-be57-3fa0ad6188f7",
   "metadata": {},
   "outputs": [
    {
     "data": {
      "text/plain": [
       "10×100 Matrix{Float64}:\n",
       " 0.104113   0.135372   0.129367   …  0.113706   0.116616   0.122785\n",
       " 0.117188   0.134647   0.127172      0.120783   0.107223   0.115575\n",
       " 0.116224   0.0502303  0.0482776     0.0514839  0.0757315  0.0756556\n",
       " 0.097332   0.117045   0.100213      0.119868   0.11386    0.10919\n",
       " 0.0439313  0.0499538  0.0481519     0.0446153  0.0523767  0.0455138\n",
       " 0.117683   0.0565894  0.120448   …  0.112181   0.0916811  0.123629\n",
       " 0.117908   0.135331   0.130043      0.120663   0.116778   0.123537\n",
       " 0.115647   0.134326   0.118391      0.118304   0.0968525  0.114995\n",
       " 0.117918   0.133818   0.129963      0.120703   0.116797   0.123425\n",
       " 0.0520573  0.0526872  0.0479729     0.0776938  0.112083   0.0456949"
      ]
     },
     "execution_count": 31,
     "metadata": {},
     "output_type": "execute_result"
    }
   ],
   "source": [
    "preds = predict(network, input)"
   ]
  },
  {
   "cell_type": "code",
   "execution_count": 32,
   "id": "c4729c9f-9bbc-42f4-892f-3ee625598ce9",
   "metadata": {},
   "outputs": [
    {
     "data": {
      "text/plain": [
       "1×100 Matrix{Float64}:\n",
       " 1.0  1.0  1.0  1.0  1.0  1.0  1.0  1.0  …  1.0  1.0  1.0  1.0  1.0  1.0  1.0"
      ]
     },
     "execution_count": 32,
     "metadata": {},
     "output_type": "execute_result"
    }
   ],
   "source": [
    "sum(preds, dims=1)"
   ]
  },
  {
   "cell_type": "markdown",
   "id": "0a81a365-efbb-4732-b92b-a89b47233cdd",
   "metadata": {},
   "source": [
    "## Error function"
   ]
  },
  {
   "cell_type": "markdown",
   "id": "f804b82d-f4ff-482d-bdf7-7fa1b97df1ab",
   "metadata": {},
   "source": [
    "Here we have a choice of using two different functions: cross-entropy and squared error function. There are different papers showing that cross-entropy gets stuck less often in worse local minima, but with a good initial position squared error perfoms better. Since we have been using the squared error function in previous homeworks we will be keeping the same error function."
   ]
  },
  {
   "cell_type": "code",
   "execution_count": 33,
   "id": "e2c280b8-5169-420e-b802-fbaaa522bef7",
   "metadata": {},
   "outputs": [],
   "source": [
    "function root_mean_squared_error(preds::Matrix{Float64}, labels::Matrix{Float64})\n",
    "    \"\"\"\n",
    "    Minimum mean square error function. Calculates error of prediction with:\n",
    "    sqrt(sum((prediction-labels)^2))/2m.\n",
    "    \"\"\"\n",
    "    m = size(labels,1)\n",
    "    preds = transpose(mapslices(sum,preds;dims = 1))\n",
    "    return norm(preds-labels,2)/2m\n",
    "end;"
   ]
  },
  {
   "cell_type": "code",
   "execution_count": 34,
   "id": "7089e0d1-1cf9-49a1-9d5b-95208853b951",
   "metadata": {},
   "outputs": [],
   "source": [
    "function cross_entropy_error(prediction::Matrix{Float64}, labels::Matrix{Float64})\n",
    "    \"\"\"\n",
    "    Calculates cross entropy error with:\n",
    "    -1/n sum(log(sigma_y(x))).\n",
    "    \"\"\"\n",
    "    probs = sum(prediction .* labels, dims =1)\n",
    "    return -sum(log.(probs))/length(probs)\n",
    "end;"
   ]
  },
  {
   "cell_type": "code",
   "execution_count": 35,
   "id": "71908caf-4069-4005-b838-a52136d969a1",
   "metadata": {},
   "outputs": [],
   "source": [
    "function calculate_error(network::NetworkArchitecture, input::Matrix{Float64}, labels::Matrix{Float64}; error_function::Function = cross_entropy_error)\n",
    "    \"\"\"\n",
    "    Calculates the error of the output of a neural network for a supervized learning problem.\n",
    "    The default method to calculate the error is with RMSE(root mean squared error).\n",
    "    \"\"\"\n",
    "    preds = predict(network, input)\n",
    "    return error_function(preds,labels)\n",
    "end;"
   ]
  },
  {
   "cell_type": "markdown",
   "id": "bdc33418-1dff-4924-894d-b9e94695573c",
   "metadata": {},
   "source": [
    "## Backpropagation"
   ]
  },
  {
   "cell_type": "code",
   "execution_count": 64,
   "id": "6b04a6a5-0686-4f6d-a33b-671a732e1596",
   "metadata": {},
   "outputs": [],
   "source": [
    "struct BackPropagationUnit\n",
    "    network::NetworkArchitecture\n",
    "    batch::Matrix{Float64}\n",
    "    outputs::Array{Matrix{Float64}}\n",
    "    deltas::Array{Matrix{Float64}}\n",
    "    \n",
    "    function BackPropagationUnit(network::NetworkArchitecture, batch::Matrix{Float64}, labels::Matrix{Float64})\n",
    "        outputs = forwardPass(network, batch)\n",
    "        deltas = backwardPass(network, outputs, labels)\n",
    "        return new(network, batch, outputs, deltas)\n",
    "    end\n",
    "end;"
   ]
  },
  {
   "cell_type": "code",
   "execution_count": 37,
   "id": "c206f34b-e0d4-4acf-a2ed-aeb8faa216cc",
   "metadata": {},
   "outputs": [],
   "source": [
    "function forwardPass(network::NetworkArchitecture, batch::Matrix{Float64})\n",
    "    res = [batch]\n",
    "    for l in network.layers\n",
    "        push!(res, l.activation.func(l.parameters, res[end]))\n",
    "    end\n",
    "    return res\n",
    "end;"
   ]
  },
  {
   "cell_type": "markdown",
   "id": "fcd1ff25-c6e6-420f-b605-c6391e44b562",
   "metadata": {},
   "source": [
    "To calculate the deltas of the last layer we can do it by\n",
    "$$\n",
    "\\delta_m = (\\hat{y}-y)g_0'(a_m)\n",
    "$$\n",
    "Where $g_0'$ is the layer's derivative and $a_m$ is the activation of layer $m$.\n",
    "Then, we calculate the previous layers by\n",
    "$$\n",
    "\\delta_k = g'(a_k)\\quad (W_{k+1}\\cdot \\delta_{k+1})\n",
    "$$"
   ]
  },
  {
   "cell_type": "code",
   "execution_count": 38,
   "id": "7b0d39a1-d4fa-483c-90a6-31f47f3d1ab1",
   "metadata": {},
   "outputs": [],
   "source": [
    "function backwardPass(network::NetworkArchitecture, outputs::Array{Matrix{Float64}}, labels::Matrix{Float64})\n",
    "    \"\"\"\n",
    "    Backward pass for backpropagations in neural networks.\n",
    "    \n",
    "    It is assumed that last layer is Softmax layer. When \n",
    "    Softmax layer is derived with cross entropy error then\n",
    "    derivative = output-labels. So we skip this layer.\n",
    "    \"\"\"\n",
    "    deltas = []\n",
    "    error = outputs[end]-labels\n",
    "    push!(deltas,error .* network.layers[end-1].activation.derivative(outputs[end-1]))\n",
    "    for i in 2:(length(network.layers)-1)\n",
    "        higher_layer = network.layers[end - i + 1]\n",
    "        der = network.layers[end - i].activation.derivative(outputs[end-i])\n",
    "        push!(deltas, der .* (transpose(higher_layer.parameters[:,(1:end-1)]) * deltas[end]))\n",
    "    end\n",
    "    return reverse(deltas)\n",
    "end;"
   ]
  },
  {
   "cell_type": "markdown",
   "id": "7615c501-8b60-44aa-ad06-de4cdac5da27",
   "metadata": {},
   "source": [
    "### Optimizers"
   ]
  },
  {
   "cell_type": "code",
   "execution_count": 39,
   "id": "ecb170c3-de27-41a9-8526-17a67068ba89",
   "metadata": {},
   "outputs": [],
   "source": [
    "abstract type Optimizer end;\n",
    "abstract type OptimizerContext end;"
   ]
  },
  {
   "cell_type": "markdown",
   "id": "80f47597-e17c-4fbe-8fbf-a6b5b688fbc7",
   "metadata": {},
   "source": [
    "#### SGD"
   ]
  },
  {
   "cell_type": "code",
   "execution_count": 40,
   "id": "38322aa5-c427-4351-946b-c85e786e12e6",
   "metadata": {},
   "outputs": [],
   "source": [
    "struct SGDParameters <: OptimizerContext\n",
    "    learningRate::Float64\n",
    "    momentum::Float64\n",
    "    velocity::Array{Array{Float64,2}}\n",
    "end;"
   ]
  },
  {
   "cell_type": "code",
   "execution_count": 41,
   "id": "a6b381d7-7101-4271-bb46-f90cee034373",
   "metadata": {},
   "outputs": [],
   "source": [
    "struct SGD <: Optimizer\n",
    "    params::OptimizerContext\n",
    "    updateFunc!::Function\n",
    "    function SGD(network::NetworkArchitecture, learningRate::Float64; momentum = 0)\n",
    "        velocity = [zeros(size(layer.parameters)) for layer in network.layers[1:end-1]]\n",
    "        return new(SGDParameters(learningRate, momentum, velocity), sgd_update!)\n",
    "    end;\n",
    "end;"
   ]
  },
  {
   "cell_type": "code",
   "execution_count": 42,
   "id": "bb36c842-1f6f-4ab5-9fba-1cc090f8b6ad",
   "metadata": {},
   "outputs": [],
   "source": [
    "function sgd_update!(bpu::BackPropagationUnit, params::OptimizerContext)\n",
    "    Threads.@threads for i in 1:(length(bpu.network.layers) - 1)\n",
    "        weight_derivative = (bpu.deltas[i] * transpose(bpu.outputs[i]))/size(bpu.batch)[2];\n",
    "        bias_derivative = mean(bpu.deltas[i],dims=2);\n",
    "        \n",
    "        params.velocity[i] *= params.momentum\n",
    "        params.velocity[i][:,1:end-1] += weight_derivative\n",
    "        params.velocity[i][:,end] += bias_derivative\n",
    "        \n",
    "        bpu.network.layers[i].parameters[:,1:(end-1)]-=params.learningRate * params.velocity[i][:,1:end-1];\n",
    "        bpu.network.layers[i].parameters[:,end]-=params.learningRate * params.velocity[i][:,end];\n",
    "    end;\n",
    "end;"
   ]
  },
  {
   "cell_type": "code",
   "execution_count": 69,
   "id": "57e13a02-d1fe-4fe4-9f30-95350df29881",
   "metadata": {},
   "outputs": [],
   "source": [
    "function epoch!(network::NetworkArchitecture, optimizer::Optimizer, data::Matrix{Float64}, labels::Matrix{Float64})\n",
    "    bpu = BackPropagationUnit(network, data, labels)\n",
    "    optimizer.updateFunc!(bpu, optimizer.params)\n",
    "end;"
   ]
  },
  {
   "cell_type": "markdown",
   "id": "390f8b12-0f74-4a66-a983-667004eadc84",
   "metadata": {},
   "source": [
    "## Testing"
   ]
  },
  {
   "cell_type": "code",
   "execution_count": null,
   "id": "1dcea948-d69e-457b-9150-c3ca06859ad6",
   "metadata": {},
   "outputs": [],
   "source": [
    "train_x = readdlm(\"./train_X.csv\", ',', Float64)\n",
    "train_y = readdlm(\"./train_y.csv\", ',', Float64)\n",
    "test_x = readdlm(\"./test_x.csv\", ',', Float64)\n",
    "test_y = readdlm(\"./test_y.csv\", ',', Float64)"
   ]
  },
  {
   "cell_type": "code",
   "execution_count": 83,
   "id": "63158a5b-ba87-4662-837a-ed2b673bf9b8",
   "metadata": {},
   "outputs": [],
   "source": [
    "first_layer = Dense(784, 512, ReLU_Activation())\n",
    "network = NetworkArchitecture(first_layer)\n",
    "add_Dense_Layer!(network, 128, ReLU_Activation());\n",
    "add_Dense_Layer!(network, 56, ReLU_Activation());\n",
    "add_Dense_Layer!(network, 10, Sigmoid_Activation());\n",
    "add_Softmax_Layer!(network);"
   ]
  },
  {
   "cell_type": "code",
   "execution_count": 84,
   "id": "fa1b55ed-2204-46cc-bc17-e7f9b3e17b35",
   "metadata": {},
   "outputs": [
    {
     "data": {
      "text/plain": [
       "2.4350297912584753"
      ]
     },
     "execution_count": 84,
     "metadata": {},
     "output_type": "execute_result"
    }
   ],
   "source": [
    "calculate_error(network, train_x, train_y)"
   ]
  },
  {
   "cell_type": "code",
   "execution_count": 85,
   "id": "891e1e2e-6f6e-46de-8f8f-4779eb816e3f",
   "metadata": {},
   "outputs": [],
   "source": [
    "sgd = SGD(network, 30.0);"
   ]
  },
  {
   "cell_type": "code",
   "execution_count": 87,
   "id": "93bbfd45-c726-454b-83fd-df820b5a42aa",
   "metadata": {},
   "outputs": [
    {
     "data": {
      "text/plain": [
       "1-element Vector{Float64}:\n",
       " 2.4334070737912032"
      ]
     },
     "execution_count": 87,
     "metadata": {},
     "output_type": "execute_result"
    }
   ],
   "source": [
    "error_train = [calculate_error(network, train_x, train_y)]\n",
    "error_test = [calculate_error(network, test_x, test_y)]"
   ]
  },
  {
   "cell_type": "code",
   "execution_count": null,
   "id": "1dceb5a6-e9fa-43a7-8160-db035a4c5622",
   "metadata": {},
   "outputs": [],
   "source": [
    "NUM_EPOCHS = 100;"
   ]
  },
  {
   "cell_type": "code",
   "execution_count": 96,
   "id": "0ac1409f-d7b9-4d07-9ebf-ca4686618914",
   "metadata": {},
   "outputs": [],
   "source": [
    "i=0\n",
    "while error_train[end]>1e-3 && i<NUM_EPOCHS\n",
    "    epoch!(network, sgd, train_x, train_y)\n",
    "    e = calculate_error(network, train_x, train_y)\n",
    "    push!(error_train, e)\n",
    "    push!(error_test, calculate_error(network, test_x, test_y))\n",
    "    i+=1\n",
    "end;"
   ]
  },
  {
   "cell_type": "code",
   "execution_count": 97,
   "id": "0a2b6a55-dfbc-4f71-b666-6aecee43b45e",
   "metadata": {},
   "outputs": [
    {
     "data": {
      "image/svg+xml": [
       "<?xml version=\"1.0\" encoding=\"utf-8\"?>\n",
       "<svg xmlns=\"http://www.w3.org/2000/svg\" xmlns:xlink=\"http://www.w3.org/1999/xlink\" width=\"600\" height=\"400\" viewBox=\"0 0 2400 1600\">\n",
       "<defs>\n",
       "  <clipPath id=\"clip350\">\n",
       "    <rect x=\"0\" y=\"0\" width=\"2400\" height=\"1600\"/>\n",
       "  </clipPath>\n",
       "</defs>\n",
       "<path clip-path=\"url(#clip350)\" d=\"\n",
       "M0 1600 L2400 1600 L2400 0 L0 0  Z\n",
       "  \" fill=\"#ffffff\" fill-rule=\"evenodd\" fill-opacity=\"1\"/>\n",
       "<defs>\n",
       "  <clipPath id=\"clip351\">\n",
       "    <rect x=\"480\" y=\"0\" width=\"1681\" height=\"1600\"/>\n",
       "  </clipPath>\n",
       "</defs>\n",
       "<path clip-path=\"url(#clip350)\" d=\"\n",
       "M156.251 1486.45 L2352.76 1486.45 L2352.76 123.472 L156.251 123.472  Z\n",
       "  \" fill=\"#ffffff\" fill-rule=\"evenodd\" fill-opacity=\"1\"/>\n",
       "<defs>\n",
       "  <clipPath id=\"clip352\">\n",
       "    <rect x=\"156\" y=\"123\" width=\"2198\" height=\"1364\"/>\n",
       "  </clipPath>\n",
       "</defs>\n",
       "<polyline clip-path=\"url(#clip352)\" style=\"stroke:#000000; stroke-linecap:butt; stroke-linejoin:round; stroke-width:2; stroke-opacity:0.1; fill:none\" points=\"\n",
       "  215.898,1486.45 215.898,123.472 \n",
       "  \"/>\n",
       "<polyline clip-path=\"url(#clip352)\" style=\"stroke:#000000; stroke-linecap:butt; stroke-linejoin:round; stroke-width:2; stroke-opacity:0.1; fill:none\" points=\"\n",
       "  719.464,1486.45 719.464,123.472 \n",
       "  \"/>\n",
       "<polyline clip-path=\"url(#clip352)\" style=\"stroke:#000000; stroke-linecap:butt; stroke-linejoin:round; stroke-width:2; stroke-opacity:0.1; fill:none\" points=\"\n",
       "  1223.03,1486.45 1223.03,123.472 \n",
       "  \"/>\n",
       "<polyline clip-path=\"url(#clip352)\" style=\"stroke:#000000; stroke-linecap:butt; stroke-linejoin:round; stroke-width:2; stroke-opacity:0.1; fill:none\" points=\"\n",
       "  1726.6,1486.45 1726.6,123.472 \n",
       "  \"/>\n",
       "<polyline clip-path=\"url(#clip352)\" style=\"stroke:#000000; stroke-linecap:butt; stroke-linejoin:round; stroke-width:2; stroke-opacity:0.1; fill:none\" points=\"\n",
       "  2230.16,1486.45 2230.16,123.472 \n",
       "  \"/>\n",
       "<polyline clip-path=\"url(#clip350)\" style=\"stroke:#000000; stroke-linecap:butt; stroke-linejoin:round; stroke-width:4; stroke-opacity:1; fill:none\" points=\"\n",
       "  156.251,1486.45 2352.76,1486.45 \n",
       "  \"/>\n",
       "<polyline clip-path=\"url(#clip350)\" style=\"stroke:#000000; stroke-linecap:butt; stroke-linejoin:round; stroke-width:4; stroke-opacity:1; fill:none\" points=\"\n",
       "  215.898,1486.45 215.898,1467.55 \n",
       "  \"/>\n",
       "<polyline clip-path=\"url(#clip350)\" style=\"stroke:#000000; stroke-linecap:butt; stroke-linejoin:round; stroke-width:4; stroke-opacity:1; fill:none\" points=\"\n",
       "  719.464,1486.45 719.464,1467.55 \n",
       "  \"/>\n",
       "<polyline clip-path=\"url(#clip350)\" style=\"stroke:#000000; stroke-linecap:butt; stroke-linejoin:round; stroke-width:4; stroke-opacity:1; fill:none\" points=\"\n",
       "  1223.03,1486.45 1223.03,1467.55 \n",
       "  \"/>\n",
       "<polyline clip-path=\"url(#clip350)\" style=\"stroke:#000000; stroke-linecap:butt; stroke-linejoin:round; stroke-width:4; stroke-opacity:1; fill:none\" points=\"\n",
       "  1726.6,1486.45 1726.6,1467.55 \n",
       "  \"/>\n",
       "<polyline clip-path=\"url(#clip350)\" style=\"stroke:#000000; stroke-linecap:butt; stroke-linejoin:round; stroke-width:4; stroke-opacity:1; fill:none\" points=\"\n",
       "  2230.16,1486.45 2230.16,1467.55 \n",
       "  \"/>\n",
       "<path clip-path=\"url(#clip350)\" d=\"M215.898 1517.37 Q212.287 1517.37 210.459 1520.93 Q208.653 1524.47 208.653 1531.6 Q208.653 1538.71 210.459 1542.27 Q212.287 1545.82 215.898 1545.82 Q219.533 1545.82 221.338 1542.27 Q223.167 1538.71 223.167 1531.6 Q223.167 1524.47 221.338 1520.93 Q219.533 1517.37 215.898 1517.37 M215.898 1513.66 Q221.709 1513.66 224.764 1518.27 Q227.843 1522.85 227.843 1531.6 Q227.843 1540.33 224.764 1544.94 Q221.709 1549.52 215.898 1549.52 Q210.088 1549.52 207.01 1544.94 Q203.954 1540.33 203.954 1531.6 Q203.954 1522.85 207.01 1518.27 Q210.088 1513.66 215.898 1513.66 Z\" fill=\"#000000\" fill-rule=\"evenodd\" fill-opacity=\"1\" /><path clip-path=\"url(#clip350)\" d=\"M683.157 1544.91 L699.476 1544.91 L699.476 1548.85 L677.532 1548.85 L677.532 1544.91 Q680.194 1542.16 684.777 1537.53 Q689.384 1532.88 690.564 1531.53 Q692.81 1529.01 693.689 1527.27 Q694.592 1525.51 694.592 1523.82 Q694.592 1521.07 692.648 1519.33 Q690.726 1517.6 687.624 1517.6 Q685.425 1517.6 682.972 1518.36 Q680.541 1519.13 677.763 1520.68 L677.763 1515.95 Q680.587 1514.82 683.041 1514.24 Q685.495 1513.66 687.532 1513.66 Q692.902 1513.66 696.097 1516.35 Q699.291 1519.03 699.291 1523.52 Q699.291 1525.65 698.481 1527.57 Q697.694 1529.47 695.587 1532.07 Q695.009 1532.74 691.907 1535.95 Q688.805 1539.15 683.157 1544.91 Z\" fill=\"#000000\" fill-rule=\"evenodd\" fill-opacity=\"1\" /><path clip-path=\"url(#clip350)\" d=\"M719.291 1517.37 Q715.68 1517.37 713.851 1520.93 Q712.046 1524.47 712.046 1531.6 Q712.046 1538.71 713.851 1542.27 Q715.68 1545.82 719.291 1545.82 Q722.925 1545.82 724.731 1542.27 Q726.559 1538.71 726.559 1531.6 Q726.559 1524.47 724.731 1520.93 Q722.925 1517.37 719.291 1517.37 M719.291 1513.66 Q725.101 1513.66 728.157 1518.27 Q731.235 1522.85 731.235 1531.6 Q731.235 1540.33 728.157 1544.94 Q725.101 1549.52 719.291 1549.52 Q713.481 1549.52 710.402 1544.94 Q707.347 1540.33 707.347 1531.6 Q707.347 1522.85 710.402 1518.27 Q713.481 1513.66 719.291 1513.66 Z\" fill=\"#000000\" fill-rule=\"evenodd\" fill-opacity=\"1\" /><path clip-path=\"url(#clip350)\" d=\"M749.453 1517.37 Q745.842 1517.37 744.013 1520.93 Q742.207 1524.47 742.207 1531.6 Q742.207 1538.71 744.013 1542.27 Q745.842 1545.82 749.453 1545.82 Q753.087 1545.82 754.893 1542.27 Q756.721 1538.71 756.721 1531.6 Q756.721 1524.47 754.893 1520.93 Q753.087 1517.37 749.453 1517.37 M749.453 1513.66 Q755.263 1513.66 758.318 1518.27 Q761.397 1522.85 761.397 1531.6 Q761.397 1540.33 758.318 1544.94 Q755.263 1549.52 749.453 1549.52 Q743.643 1549.52 740.564 1544.94 Q737.508 1540.33 737.508 1531.6 Q737.508 1522.85 740.564 1518.27 Q743.643 1513.66 749.453 1513.66 Z\" fill=\"#000000\" fill-rule=\"evenodd\" fill-opacity=\"1\" /><path clip-path=\"url(#clip350)\" d=\"M1196.12 1518.36 L1184.32 1536.81 L1196.12 1536.81 L1196.12 1518.36 M1194.89 1514.29 L1200.77 1514.29 L1200.77 1536.81 L1205.7 1536.81 L1205.7 1540.7 L1200.77 1540.7 L1200.77 1548.85 L1196.12 1548.85 L1196.12 1540.7 L1180.52 1540.7 L1180.52 1536.19 L1194.89 1514.29 Z\" fill=\"#000000\" fill-rule=\"evenodd\" fill-opacity=\"1\" /><path clip-path=\"url(#clip350)\" d=\"M1223.44 1517.37 Q1219.82 1517.37 1218 1520.93 Q1216.19 1524.47 1216.19 1531.6 Q1216.19 1538.71 1218 1542.27 Q1219.82 1545.82 1223.44 1545.82 Q1227.07 1545.82 1228.88 1542.27 Q1230.7 1538.71 1230.7 1531.6 Q1230.7 1524.47 1228.88 1520.93 Q1227.07 1517.37 1223.44 1517.37 M1223.44 1513.66 Q1229.25 1513.66 1232.3 1518.27 Q1235.38 1522.85 1235.38 1531.6 Q1235.38 1540.33 1232.3 1544.94 Q1229.25 1549.52 1223.44 1549.52 Q1217.63 1549.52 1214.55 1544.94 Q1211.49 1540.33 1211.49 1531.6 Q1211.49 1522.85 1214.55 1518.27 Q1217.63 1513.66 1223.44 1513.66 Z\" fill=\"#000000\" fill-rule=\"evenodd\" fill-opacity=\"1\" /><path clip-path=\"url(#clip350)\" d=\"M1253.6 1517.37 Q1249.99 1517.37 1248.16 1520.93 Q1246.35 1524.47 1246.35 1531.6 Q1246.35 1538.71 1248.16 1542.27 Q1249.99 1545.82 1253.6 1545.82 Q1257.23 1545.82 1259.04 1542.27 Q1260.87 1538.71 1260.87 1531.6 Q1260.87 1524.47 1259.04 1520.93 Q1257.23 1517.37 1253.6 1517.37 M1253.6 1513.66 Q1259.41 1513.66 1262.46 1518.27 Q1265.54 1522.85 1265.54 1531.6 Q1265.54 1540.33 1262.46 1544.94 Q1259.41 1549.52 1253.6 1549.52 Q1247.79 1549.52 1244.71 1544.94 Q1241.65 1540.33 1241.65 1531.6 Q1241.65 1522.85 1244.71 1518.27 Q1247.79 1513.66 1253.6 1513.66 Z\" fill=\"#000000\" fill-rule=\"evenodd\" fill-opacity=\"1\" /><path clip-path=\"url(#clip350)\" d=\"M1696.92 1529.7 Q1693.77 1529.7 1691.92 1531.86 Q1690.09 1534.01 1690.09 1537.76 Q1690.09 1541.49 1691.92 1543.66 Q1693.77 1545.82 1696.92 1545.82 Q1700.07 1545.82 1701.9 1543.66 Q1703.75 1541.49 1703.75 1537.76 Q1703.75 1534.01 1701.9 1531.86 Q1700.07 1529.7 1696.92 1529.7 M1706.2 1515.05 L1706.2 1519.31 Q1704.44 1518.48 1702.64 1518.04 Q1700.86 1517.6 1699.1 1517.6 Q1694.47 1517.6 1692.01 1520.72 Q1689.58 1523.85 1689.24 1530.17 Q1690.6 1528.15 1692.66 1527.09 Q1694.72 1526 1697.2 1526 Q1702.41 1526 1705.42 1529.17 Q1708.45 1532.32 1708.45 1537.76 Q1708.45 1543.08 1705.3 1546.3 Q1702.15 1549.52 1696.92 1549.52 Q1690.93 1549.52 1687.75 1544.94 Q1684.58 1540.33 1684.58 1531.6 Q1684.58 1523.41 1688.47 1518.55 Q1692.36 1513.66 1698.91 1513.66 Q1700.67 1513.66 1702.45 1514.01 Q1704.26 1514.36 1706.2 1515.05 Z\" fill=\"#000000\" fill-rule=\"evenodd\" fill-opacity=\"1\" /><path clip-path=\"url(#clip350)\" d=\"M1726.5 1517.37 Q1722.89 1517.37 1721.06 1520.93 Q1719.26 1524.47 1719.26 1531.6 Q1719.26 1538.71 1721.06 1542.27 Q1722.89 1545.82 1726.5 1545.82 Q1730.14 1545.82 1731.94 1542.27 Q1733.77 1538.71 1733.77 1531.6 Q1733.77 1524.47 1731.94 1520.93 Q1730.14 1517.37 1726.5 1517.37 M1726.5 1513.66 Q1732.31 1513.66 1735.37 1518.27 Q1738.45 1522.85 1738.45 1531.6 Q1738.45 1540.33 1735.37 1544.94 Q1732.31 1549.52 1726.5 1549.52 Q1720.69 1549.52 1717.62 1544.94 Q1714.56 1540.33 1714.56 1531.6 Q1714.56 1522.85 1717.62 1518.27 Q1720.69 1513.66 1726.5 1513.66 Z\" fill=\"#000000\" fill-rule=\"evenodd\" fill-opacity=\"1\" /><path clip-path=\"url(#clip350)\" d=\"M1756.67 1517.37 Q1753.05 1517.37 1751.23 1520.93 Q1749.42 1524.47 1749.42 1531.6 Q1749.42 1538.71 1751.23 1542.27 Q1753.05 1545.82 1756.67 1545.82 Q1760.3 1545.82 1762.11 1542.27 Q1763.93 1538.71 1763.93 1531.6 Q1763.93 1524.47 1762.11 1520.93 Q1760.3 1517.37 1756.67 1517.37 M1756.67 1513.66 Q1762.48 1513.66 1765.53 1518.27 Q1768.61 1522.85 1768.61 1531.6 Q1768.61 1540.33 1765.53 1544.94 Q1762.48 1549.52 1756.67 1549.52 Q1750.86 1549.52 1747.78 1544.94 Q1744.72 1540.33 1744.72 1531.6 Q1744.72 1522.85 1747.78 1518.27 Q1750.86 1513.66 1756.67 1513.66 Z\" fill=\"#000000\" fill-rule=\"evenodd\" fill-opacity=\"1\" /><path clip-path=\"url(#clip350)\" d=\"M2199.95 1532.44 Q2196.62 1532.44 2194.7 1534.22 Q2192.8 1536 2192.8 1539.13 Q2192.8 1542.25 2194.7 1544.03 Q2196.62 1545.82 2199.95 1545.82 Q2203.29 1545.82 2205.21 1544.03 Q2207.13 1542.23 2207.13 1539.13 Q2207.13 1536 2205.21 1534.22 Q2203.31 1532.44 2199.95 1532.44 M2195.28 1530.45 Q2192.27 1529.7 2190.58 1527.64 Q2188.91 1525.58 2188.91 1522.62 Q2188.91 1518.48 2191.85 1516.07 Q2194.82 1513.66 2199.95 1513.66 Q2205.12 1513.66 2208.06 1516.07 Q2211 1518.48 2211 1522.62 Q2211 1525.58 2209.31 1527.64 Q2207.64 1529.7 2204.65 1530.45 Q2208.03 1531.23 2209.91 1533.52 Q2211.81 1535.82 2211.81 1539.13 Q2211.81 1544.15 2208.73 1546.83 Q2205.67 1549.52 2199.95 1549.52 Q2194.24 1549.52 2191.16 1546.83 Q2188.1 1544.15 2188.1 1539.13 Q2188.1 1535.82 2190 1533.52 Q2191.9 1531.23 2195.28 1530.45 M2193.57 1523.06 Q2193.57 1525.75 2195.23 1527.25 Q2196.92 1528.76 2199.95 1528.76 Q2202.96 1528.76 2204.65 1527.25 Q2206.37 1525.75 2206.37 1523.06 Q2206.37 1520.38 2204.65 1518.87 Q2202.96 1517.37 2199.95 1517.37 Q2196.92 1517.37 2195.23 1518.87 Q2193.57 1520.38 2193.57 1523.06 Z\" fill=\"#000000\" fill-rule=\"evenodd\" fill-opacity=\"1\" /><path clip-path=\"url(#clip350)\" d=\"M2230.12 1517.37 Q2226.51 1517.37 2224.68 1520.93 Q2222.87 1524.47 2222.87 1531.6 Q2222.87 1538.71 2224.68 1542.27 Q2226.51 1545.82 2230.12 1545.82 Q2233.75 1545.82 2235.56 1542.27 Q2237.38 1538.71 2237.38 1531.6 Q2237.38 1524.47 2235.56 1520.93 Q2233.75 1517.37 2230.12 1517.37 M2230.12 1513.66 Q2235.93 1513.66 2238.98 1518.27 Q2242.06 1522.85 2242.06 1531.6 Q2242.06 1540.33 2238.98 1544.94 Q2235.93 1549.52 2230.12 1549.52 Q2224.31 1549.52 2221.23 1544.94 Q2218.17 1540.33 2218.17 1531.6 Q2218.17 1522.85 2221.23 1518.27 Q2224.31 1513.66 2230.12 1513.66 Z\" fill=\"#000000\" fill-rule=\"evenodd\" fill-opacity=\"1\" /><path clip-path=\"url(#clip350)\" d=\"M2260.28 1517.37 Q2256.67 1517.37 2254.84 1520.93 Q2253.03 1524.47 2253.03 1531.6 Q2253.03 1538.71 2254.84 1542.27 Q2256.67 1545.82 2260.28 1545.82 Q2263.91 1545.82 2265.72 1542.27 Q2267.55 1538.71 2267.55 1531.6 Q2267.55 1524.47 2265.72 1520.93 Q2263.91 1517.37 2260.28 1517.37 M2260.28 1513.66 Q2266.09 1513.66 2269.14 1518.27 Q2272.22 1522.85 2272.22 1531.6 Q2272.22 1540.33 2269.14 1544.94 Q2266.09 1549.52 2260.28 1549.52 Q2254.47 1549.52 2251.39 1544.94 Q2248.33 1540.33 2248.33 1531.6 Q2248.33 1522.85 2251.39 1518.27 Q2254.47 1513.66 2260.28 1513.66 Z\" fill=\"#000000\" fill-rule=\"evenodd\" fill-opacity=\"1\" /><polyline clip-path=\"url(#clip352)\" style=\"stroke:#000000; stroke-linecap:butt; stroke-linejoin:round; stroke-width:2; stroke-opacity:0.1; fill:none\" points=\"\n",
       "  156.251,1321.33 2352.76,1321.33 \n",
       "  \"/>\n",
       "<polyline clip-path=\"url(#clip352)\" style=\"stroke:#000000; stroke-linecap:butt; stroke-linejoin:round; stroke-width:2; stroke-opacity:0.1; fill:none\" points=\"\n",
       "  156.251,1043.67 2352.76,1043.67 \n",
       "  \"/>\n",
       "<polyline clip-path=\"url(#clip352)\" style=\"stroke:#000000; stroke-linecap:butt; stroke-linejoin:round; stroke-width:2; stroke-opacity:0.1; fill:none\" points=\"\n",
       "  156.251,766.006 2352.76,766.006 \n",
       "  \"/>\n",
       "<polyline clip-path=\"url(#clip352)\" style=\"stroke:#000000; stroke-linecap:butt; stroke-linejoin:round; stroke-width:2; stroke-opacity:0.1; fill:none\" points=\"\n",
       "  156.251,488.343 2352.76,488.343 \n",
       "  \"/>\n",
       "<polyline clip-path=\"url(#clip352)\" style=\"stroke:#000000; stroke-linecap:butt; stroke-linejoin:round; stroke-width:2; stroke-opacity:0.1; fill:none\" points=\"\n",
       "  156.251,210.679 2352.76,210.679 \n",
       "  \"/>\n",
       "<polyline clip-path=\"url(#clip350)\" style=\"stroke:#000000; stroke-linecap:butt; stroke-linejoin:round; stroke-width:4; stroke-opacity:1; fill:none\" points=\"\n",
       "  156.251,1486.45 156.251,123.472 \n",
       "  \"/>\n",
       "<polyline clip-path=\"url(#clip350)\" style=\"stroke:#000000; stroke-linecap:butt; stroke-linejoin:round; stroke-width:4; stroke-opacity:1; fill:none\" points=\"\n",
       "  156.251,1321.33 175.149,1321.33 \n",
       "  \"/>\n",
       "<polyline clip-path=\"url(#clip350)\" style=\"stroke:#000000; stroke-linecap:butt; stroke-linejoin:round; stroke-width:4; stroke-opacity:1; fill:none\" points=\"\n",
       "  156.251,1043.67 175.149,1043.67 \n",
       "  \"/>\n",
       "<polyline clip-path=\"url(#clip350)\" style=\"stroke:#000000; stroke-linecap:butt; stroke-linejoin:round; stroke-width:4; stroke-opacity:1; fill:none\" points=\"\n",
       "  156.251,766.006 175.149,766.006 \n",
       "  \"/>\n",
       "<polyline clip-path=\"url(#clip350)\" style=\"stroke:#000000; stroke-linecap:butt; stroke-linejoin:round; stroke-width:4; stroke-opacity:1; fill:none\" points=\"\n",
       "  156.251,488.343 175.149,488.343 \n",
       "  \"/>\n",
       "<polyline clip-path=\"url(#clip350)\" style=\"stroke:#000000; stroke-linecap:butt; stroke-linejoin:round; stroke-width:4; stroke-opacity:1; fill:none\" points=\"\n",
       "  156.251,210.679 175.149,210.679 \n",
       "  \"/>\n",
       "<path clip-path=\"url(#clip350)\" d=\"M53.7236 1334.68 L61.3624 1334.68 L61.3624 1308.31 L53.0523 1309.98 L53.0523 1305.72 L61.3161 1304.05 L65.992 1304.05 L65.992 1334.68 L73.6309 1334.68 L73.6309 1338.61 L53.7236 1338.61 L53.7236 1334.68 Z\" fill=\"#000000\" fill-rule=\"evenodd\" fill-opacity=\"1\" /><path clip-path=\"url(#clip350)\" d=\"M83.0753 1332.73 L87.9595 1332.73 L87.9595 1338.61 L83.0753 1338.61 L83.0753 1332.73 Z\" fill=\"#000000\" fill-rule=\"evenodd\" fill-opacity=\"1\" /><path clip-path=\"url(#clip350)\" d=\"M108.723 1319.47 Q105.575 1319.47 103.723 1321.62 Q101.895 1323.77 101.895 1327.52 Q101.895 1331.25 103.723 1333.43 Q105.575 1335.58 108.723 1335.58 Q111.871 1335.58 113.7 1333.43 Q115.552 1331.25 115.552 1327.52 Q115.552 1323.77 113.7 1321.62 Q111.871 1319.47 108.723 1319.47 M118.006 1304.82 L118.006 1309.08 Q116.246 1308.24 114.441 1307.8 Q112.658 1307.36 110.899 1307.36 Q106.27 1307.36 103.816 1310.49 Q101.385 1313.61 101.038 1319.93 Q102.404 1317.92 104.464 1316.85 Q106.524 1315.77 109.001 1315.77 Q114.209 1315.77 117.219 1318.94 Q120.251 1322.09 120.251 1327.52 Q120.251 1332.85 117.103 1336.07 Q113.955 1339.28 108.723 1339.28 Q102.728 1339.28 99.5567 1334.7 Q96.3854 1330.09 96.3854 1321.37 Q96.3854 1313.17 100.274 1308.31 Q104.163 1303.43 110.714 1303.43 Q112.473 1303.43 114.256 1303.78 Q116.061 1304.12 118.006 1304.82 Z\" fill=\"#000000\" fill-rule=\"evenodd\" fill-opacity=\"1\" /><path clip-path=\"url(#clip350)\" d=\"M53.9782 1057.01 L61.6171 1057.01 L61.6171 1030.65 L53.3069 1032.32 L53.3069 1028.06 L61.5708 1026.39 L66.2467 1026.39 L66.2467 1057.01 L73.8855 1057.01 L73.8855 1060.95 L53.9782 1060.95 L53.9782 1057.01 Z\" fill=\"#000000\" fill-rule=\"evenodd\" fill-opacity=\"1\" /><path clip-path=\"url(#clip350)\" d=\"M83.3299 1055.07 L88.2141 1055.07 L88.2141 1060.95 L83.3299 1060.95 L83.3299 1055.07 Z\" fill=\"#000000\" fill-rule=\"evenodd\" fill-opacity=\"1\" /><path clip-path=\"url(#clip350)\" d=\"M108.399 1044.54 Q105.066 1044.54 103.145 1046.32 Q101.246 1048.1 101.246 1051.23 Q101.246 1054.35 103.145 1056.13 Q105.066 1057.92 108.399 1057.92 Q111.733 1057.92 113.654 1056.13 Q115.575 1054.33 115.575 1051.23 Q115.575 1048.1 113.654 1046.32 Q111.756 1044.54 108.399 1044.54 M103.723 1042.55 Q100.714 1041.81 99.0243 1039.75 Q97.3576 1037.69 97.3576 1034.72 Q97.3576 1030.58 100.297 1028.17 Q103.26 1025.76 108.399 1025.76 Q113.561 1025.76 116.501 1028.17 Q119.441 1030.58 119.441 1034.72 Q119.441 1037.69 117.751 1039.75 Q116.084 1041.81 113.098 1042.55 Q116.478 1043.33 118.353 1045.63 Q120.251 1047.92 120.251 1051.23 Q120.251 1056.25 117.172 1058.94 Q114.117 1061.62 108.399 1061.62 Q102.682 1061.62 99.603 1058.94 Q96.5474 1056.25 96.5474 1051.23 Q96.5474 1047.92 98.4456 1045.63 Q100.344 1043.33 103.723 1042.55 M102.01 1035.16 Q102.01 1037.85 103.677 1039.35 Q105.367 1040.86 108.399 1040.86 Q111.408 1040.86 113.098 1039.35 Q114.811 1037.85 114.811 1035.16 Q114.811 1032.48 113.098 1030.97 Q111.408 1029.47 108.399 1029.47 Q105.367 1029.47 103.677 1030.97 Q102.01 1032.48 102.01 1035.16 Z\" fill=\"#000000\" fill-rule=\"evenodd\" fill-opacity=\"1\" /><path clip-path=\"url(#clip350)\" d=\"M57.1032 779.351 L73.4226 779.351 L73.4226 783.286 L51.4782 783.286 L51.4782 779.351 Q54.1403 776.596 58.7236 771.967 Q63.33 767.314 64.5106 765.971 Q66.7559 763.448 67.6356 761.712 Q68.5383 759.953 68.5383 758.263 Q68.5383 755.508 66.5939 753.772 Q64.6726 752.036 61.5708 752.036 Q59.3717 752.036 56.918 752.8 Q54.4875 753.564 51.7097 755.115 L51.7097 750.393 Q54.5338 749.258 56.9875 748.68 Q59.4412 748.101 61.4782 748.101 Q66.8485 748.101 70.0429 750.786 Q73.2374 753.471 73.2374 757.962 Q73.2374 760.092 72.4272 762.013 Q71.6402 763.911 69.5337 766.504 Q68.955 767.175 65.8532 770.393 Q62.7513 773.587 57.1032 779.351 Z\" fill=\"#000000\" fill-rule=\"evenodd\" fill-opacity=\"1\" /><path clip-path=\"url(#clip350)\" d=\"M83.2373 777.406 L88.1216 777.406 L88.1216 783.286 L83.2373 783.286 L83.2373 777.406 Z\" fill=\"#000000\" fill-rule=\"evenodd\" fill-opacity=\"1\" /><path clip-path=\"url(#clip350)\" d=\"M108.307 751.805 Q104.696 751.805 102.867 755.37 Q101.061 758.911 101.061 766.041 Q101.061 773.147 102.867 776.712 Q104.696 780.254 108.307 780.254 Q111.941 780.254 113.746 776.712 Q115.575 773.147 115.575 766.041 Q115.575 758.911 113.746 755.37 Q111.941 751.805 108.307 751.805 M108.307 748.101 Q114.117 748.101 117.172 752.708 Q120.251 757.291 120.251 766.041 Q120.251 774.768 117.172 779.374 Q114.117 783.957 108.307 783.957 Q102.496 783.957 99.4178 779.374 Q96.3623 774.768 96.3623 766.041 Q96.3623 757.291 99.4178 752.708 Q102.496 748.101 108.307 748.101 Z\" fill=\"#000000\" fill-rule=\"evenodd\" fill-opacity=\"1\" /><path clip-path=\"url(#clip350)\" d=\"M58.7004 501.688 L75.0198 501.688 L75.0198 505.623 L53.0754 505.623 L53.0754 501.688 Q55.7375 498.933 60.3208 494.303 Q64.9272 489.651 66.1078 488.308 Q68.3531 485.785 69.2328 484.049 Q70.1355 482.29 70.1355 480.6 Q70.1355 477.845 68.1911 476.109 Q66.2698 474.373 63.168 474.373 Q60.9689 474.373 58.5152 475.137 Q56.0847 475.901 53.3069 477.452 L53.3069 472.729 Q56.131 471.595 58.5847 471.016 Q61.0384 470.438 63.0754 470.438 Q68.4457 470.438 71.6402 473.123 Q74.8346 475.808 74.8346 480.299 Q74.8346 482.428 74.0244 484.35 Q73.2374 486.248 71.1309 488.84 Q70.5522 489.512 67.4504 492.729 Q64.3485 495.924 58.7004 501.688 Z\" fill=\"#000000\" fill-rule=\"evenodd\" fill-opacity=\"1\" /><path clip-path=\"url(#clip350)\" d=\"M84.8345 499.743 L89.7188 499.743 L89.7188 505.623 L84.8345 505.623 L84.8345 499.743 Z\" fill=\"#000000\" fill-rule=\"evenodd\" fill-opacity=\"1\" /><path clip-path=\"url(#clip350)\" d=\"M103.932 501.688 L120.251 501.688 L120.251 505.623 L98.3067 505.623 L98.3067 501.688 Q100.969 498.933 105.552 494.303 Q110.158 489.651 111.339 488.308 Q113.584 485.785 114.464 484.049 Q115.367 482.29 115.367 480.6 Q115.367 477.845 113.422 476.109 Q111.501 474.373 108.399 474.373 Q106.2 474.373 103.746 475.137 Q101.316 475.901 98.5382 477.452 L98.5382 472.729 Q101.362 471.595 103.816 471.016 Q106.27 470.438 108.307 470.438 Q113.677 470.438 116.871 473.123 Q120.066 475.808 120.066 480.299 Q120.066 482.428 119.256 484.35 Q118.469 486.248 116.362 488.84 Q115.783 489.512 112.682 492.729 Q109.58 495.924 103.932 501.688 Z\" fill=\"#000000\" fill-rule=\"evenodd\" fill-opacity=\"1\" /><path clip-path=\"url(#clip350)\" d=\"M56.6171 224.024 L72.9365 224.024 L72.9365 227.959 L50.9921 227.959 L50.9921 224.024 Q53.6541 221.27 58.2375 216.64 Q62.8439 211.987 64.0245 210.645 Q66.2698 208.122 67.1494 206.385 Q68.0522 204.626 68.0522 202.936 Q68.0522 200.182 66.1078 198.446 Q64.1865 196.71 61.0847 196.71 Q58.8856 196.71 56.4319 197.473 Q54.0014 198.237 51.2236 199.788 L51.2236 195.066 Q54.0477 193.932 56.5014 193.353 Q58.955 192.774 60.9921 192.774 Q66.3624 192.774 69.5568 195.46 Q72.7513 198.145 72.7513 202.635 Q72.7513 204.765 71.9411 206.686 Q71.1541 208.584 69.0476 211.177 Q68.4689 211.848 65.367 215.066 Q62.2652 218.26 56.6171 224.024 Z\" fill=\"#000000\" fill-rule=\"evenodd\" fill-opacity=\"1\" /><path clip-path=\"url(#clip350)\" d=\"M82.7512 222.08 L87.6354 222.08 L87.6354 227.959 L82.7512 227.959 L82.7512 222.08 Z\" fill=\"#000000\" fill-rule=\"evenodd\" fill-opacity=\"1\" /><path clip-path=\"url(#clip350)\" d=\"M110.668 197.473 L98.8622 215.922 L110.668 215.922 L110.668 197.473 M109.441 193.399 L115.32 193.399 L115.32 215.922 L120.251 215.922 L120.251 219.811 L115.32 219.811 L115.32 227.959 L110.668 227.959 L110.668 219.811 L95.066 219.811 L95.066 215.297 L109.441 193.399 Z\" fill=\"#000000\" fill-rule=\"evenodd\" fill-opacity=\"1\" /><path clip-path=\"url(#clip350)\" d=\"M887.026 12.096 L938.189 12.096 L938.189 18.9825 L916.719 18.9825 L916.719 72.576 L908.495 72.576 L908.495 18.9825 L887.026 18.9825 L887.026 12.096 Z\" fill=\"#000000\" fill-rule=\"evenodd\" fill-opacity=\"1\" /><path clip-path=\"url(#clip350)\" d=\"M959.861 34.1734 Q958.605 33.4443 957.106 33.1202 Q955.648 32.7556 953.866 32.7556 Q947.546 32.7556 944.143 36.8875 Q940.781 40.9789 940.781 48.6757 L940.781 72.576 L933.287 72.576 L933.287 27.2059 L940.781 27.2059 L940.781 34.2544 Q943.131 30.1225 946.898 28.1376 Q950.665 26.1121 956.053 26.1121 Q956.823 26.1121 957.754 26.2337 Q958.686 26.3147 959.82 26.5172 L959.861 34.1734 Z\" fill=\"#000000\" fill-rule=\"evenodd\" fill-opacity=\"1\" /><path clip-path=\"url(#clip350)\" d=\"M988.298 49.7694 Q979.265 49.7694 975.781 51.8354 Q972.297 53.9013 972.297 58.8839 Q972.297 62.8538 974.89 65.2034 Q977.523 67.5124 982.019 67.5124 Q988.217 67.5124 991.944 63.1374 Q995.711 58.7219 995.711 51.4303 L995.711 49.7694 L988.298 49.7694 M1003.17 46.6907 L1003.17 72.576 L995.711 72.576 L995.711 65.6895 Q993.159 69.8214 989.352 71.8063 Q985.544 73.7508 980.034 73.7508 Q973.067 73.7508 968.935 69.8619 Q964.844 65.9325 964.844 59.3701 Q964.844 51.7138 969.948 47.825 Q975.092 43.9361 985.26 43.9361 L995.711 43.9361 L995.711 43.2069 Q995.711 38.0623 992.309 35.2672 Q988.946 32.4315 982.83 32.4315 Q978.941 32.4315 975.254 33.3632 Q971.568 34.295 968.165 36.1584 L968.165 29.2718 Q972.257 27.692 976.105 26.9223 Q979.953 26.1121 983.599 26.1121 Q993.443 26.1121 998.304 31.2163 Q1003.17 36.3204 1003.17 46.6907 Z\" fill=\"#000000\" fill-rule=\"evenodd\" fill-opacity=\"1\" /><path clip-path=\"url(#clip350)\" d=\"M1018.52 27.2059 L1025.97 27.2059 L1025.97 72.576 L1018.52 72.576 L1018.52 27.2059 M1018.52 9.54393 L1025.97 9.54393 L1025.97 18.9825 L1018.52 18.9825 L1018.52 9.54393 Z\" fill=\"#000000\" fill-rule=\"evenodd\" fill-opacity=\"1\" /><path clip-path=\"url(#clip350)\" d=\"M1079.28 45.1919 L1079.28 72.576 L1071.83 72.576 L1071.83 45.4349 Q1071.83 38.994 1069.32 35.7938 Q1066.8 32.5936 1061.78 32.5936 Q1055.75 32.5936 1052.26 36.4419 Q1048.78 40.2903 1048.78 46.9338 L1048.78 72.576 L1041.28 72.576 L1041.28 27.2059 L1048.78 27.2059 L1048.78 34.2544 Q1051.45 30.163 1055.06 28.1376 Q1058.7 26.1121 1063.44 26.1121 Q1071.26 26.1121 1075.27 30.9732 Q1079.28 35.7938 1079.28 45.1919 Z\" fill=\"#000000\" fill-rule=\"evenodd\" fill-opacity=\"1\" /><path clip-path=\"url(#clip350)\" d=\"M1115.17 27.2059 L1123.07 27.2059 L1137.25 65.2844 L1151.43 27.2059 L1159.33 27.2059 L1142.31 72.576 L1132.19 72.576 L1115.17 27.2059 Z\" fill=\"#000000\" fill-rule=\"evenodd\" fill-opacity=\"1\" /><path clip-path=\"url(#clip350)\" d=\"M1198.54 28.5427 L1198.54 35.5912 Q1195.38 33.9709 1191.98 33.1607 Q1188.57 32.3505 1184.93 32.3505 Q1179.38 32.3505 1176.58 34.0519 Q1173.83 35.7533 1173.83 39.156 Q1173.83 41.7486 1175.81 43.2475 Q1177.8 44.7058 1183.79 46.0426 L1186.35 46.6097 Q1194.29 48.3111 1197.61 51.4303 Q1200.97 54.509 1200.97 60.0587 Q1200.97 66.3781 1195.95 70.0644 Q1190.97 73.7508 1182.22 73.7508 Q1178.57 73.7508 1174.6 73.0216 Q1170.67 72.3329 1166.3 70.9151 L1166.3 63.2184 Q1170.43 65.3654 1174.44 66.4591 Q1178.45 67.5124 1182.38 67.5124 Q1187.64 67.5124 1190.48 65.73 Q1193.31 63.9071 1193.31 60.6258 Q1193.31 57.5877 1191.25 55.9673 Q1189.22 54.3469 1182.3 52.8481 L1179.7 52.2405 Q1172.78 50.7821 1169.7 47.7845 Q1166.62 44.7463 1166.62 39.4801 Q1166.62 33.0797 1171.16 29.5959 Q1175.69 26.1121 1184.04 26.1121 Q1188.17 26.1121 1191.82 26.7198 Q1195.46 27.3274 1198.54 28.5427 Z\" fill=\"#000000\" fill-rule=\"evenodd\" fill-opacity=\"1\" /><path clip-path=\"url(#clip350)\" d=\"M1231.15 12.096 L1282.31 12.096 L1282.31 18.9825 L1260.84 18.9825 L1260.84 72.576 L1252.62 72.576 L1252.62 18.9825 L1231.15 18.9825 L1231.15 12.096 Z\" fill=\"#000000\" fill-rule=\"evenodd\" fill-opacity=\"1\" /><path clip-path=\"url(#clip350)\" d=\"M1314.6 48.0275 L1314.6 51.6733 L1280.33 51.6733 Q1280.81 59.3701 1284.95 63.421 Q1289.12 67.4314 1296.53 67.4314 Q1300.83 67.4314 1304.84 66.3781 Q1308.89 65.3249 1312.86 63.2184 L1312.86 70.267 Q1308.85 71.9684 1304.63 72.8596 Q1300.42 73.7508 1296.09 73.7508 Q1285.23 73.7508 1278.87 67.4314 Q1272.55 61.1119 1272.55 50.3365 Q1272.55 39.1965 1278.55 32.6746 Q1284.58 26.1121 1294.79 26.1121 Q1303.94 26.1121 1309.25 32.0264 Q1314.6 37.9003 1314.6 48.0275 M1307.14 45.84 Q1307.06 39.7232 1303.7 36.0774 Q1300.38 32.4315 1294.87 32.4315 Q1288.63 32.4315 1284.86 35.9558 Q1281.14 39.4801 1280.57 45.8805 L1307.14 45.84 Z\" fill=\"#000000\" fill-rule=\"evenodd\" fill-opacity=\"1\" /><path clip-path=\"url(#clip350)\" d=\"M1355.76 28.5427 L1355.76 35.5912 Q1352.6 33.9709 1349.19 33.1607 Q1345.79 32.3505 1342.14 32.3505 Q1336.6 32.3505 1333.8 34.0519 Q1331.05 35.7533 1331.05 39.156 Q1331.05 41.7486 1333.03 43.2475 Q1335.02 44.7058 1341.01 46.0426 L1343.56 46.6097 Q1351.5 48.3111 1354.82 51.4303 Q1358.19 54.509 1358.19 60.0587 Q1358.19 66.3781 1353.16 70.0644 Q1348.18 73.7508 1339.43 73.7508 Q1335.78 73.7508 1331.81 73.0216 Q1327.89 72.3329 1323.51 70.9151 L1323.51 63.2184 Q1327.64 65.3654 1331.65 66.4591 Q1335.66 67.5124 1339.59 67.5124 Q1344.86 67.5124 1347.69 65.73 Q1350.53 63.9071 1350.53 60.6258 Q1350.53 57.5877 1348.46 55.9673 Q1346.44 54.3469 1339.51 52.8481 L1336.92 52.2405 Q1329.99 50.7821 1326.91 47.7845 Q1323.83 44.7463 1323.83 39.4801 Q1323.83 33.0797 1328.37 29.5959 Q1332.91 26.1121 1341.25 26.1121 Q1345.39 26.1121 1349.03 26.7198 Q1352.68 27.3274 1355.76 28.5427 Z\" fill=\"#000000\" fill-rule=\"evenodd\" fill-opacity=\"1\" /><path clip-path=\"url(#clip350)\" d=\"M1377.43 14.324 L1377.43 27.2059 L1392.78 27.2059 L1392.78 32.9987 L1377.43 32.9987 L1377.43 57.6282 Q1377.43 63.1779 1378.93 64.7578 Q1380.47 66.3376 1385.12 66.3376 L1392.78 66.3376 L1392.78 72.576 L1385.12 72.576 Q1376.5 72.576 1373.22 69.3758 Q1369.93 66.1351 1369.93 57.6282 L1369.93 32.9987 L1364.47 32.9987 L1364.47 27.2059 L1369.93 27.2059 L1369.93 14.324 L1377.43 14.324 Z\" fill=\"#000000\" fill-rule=\"evenodd\" fill-opacity=\"1\" /><path clip-path=\"url(#clip350)\" d=\"M1467.76 48.0275 L1467.76 51.6733 L1433.49 51.6733 Q1433.98 59.3701 1438.11 63.421 Q1442.28 67.4314 1449.7 67.4314 Q1453.99 67.4314 1458 66.3781 Q1462.05 65.3249 1466.02 63.2184 L1466.02 70.267 Q1462.01 71.9684 1457.8 72.8596 Q1453.59 73.7508 1449.25 73.7508 Q1438.39 73.7508 1432.03 67.4314 Q1425.71 61.1119 1425.71 50.3365 Q1425.71 39.1965 1431.71 32.6746 Q1437.75 26.1121 1447.95 26.1121 Q1457.11 26.1121 1462.42 32.0264 Q1467.76 37.9003 1467.76 48.0275 M1460.31 45.84 Q1460.23 39.7232 1456.87 36.0774 Q1453.54 32.4315 1448.04 32.4315 Q1441.8 32.4315 1438.03 35.9558 Q1434.3 39.4801 1433.74 45.8805 L1460.31 45.84 Z\" fill=\"#000000\" fill-rule=\"evenodd\" fill-opacity=\"1\" /><path clip-path=\"url(#clip350)\" d=\"M1506.29 34.1734 Q1505.03 33.4443 1503.53 33.1202 Q1502.07 32.7556 1500.29 32.7556 Q1493.97 32.7556 1490.57 36.8875 Q1487.21 40.9789 1487.21 48.6757 L1487.21 72.576 L1479.71 72.576 L1479.71 27.2059 L1487.21 27.2059 L1487.21 34.2544 Q1489.56 30.1225 1493.32 28.1376 Q1497.09 26.1121 1502.48 26.1121 Q1503.25 26.1121 1504.18 26.2337 Q1505.11 26.3147 1506.25 26.5172 L1506.29 34.1734 Z\" fill=\"#000000\" fill-rule=\"evenodd\" fill-opacity=\"1\" /><path clip-path=\"url(#clip350)\" d=\"M1538.94 34.1734 Q1537.68 33.4443 1536.18 33.1202 Q1534.72 32.7556 1532.94 32.7556 Q1526.62 32.7556 1523.22 36.8875 Q1519.86 40.9789 1519.86 48.6757 L1519.86 72.576 L1512.36 72.576 L1512.36 27.2059 L1519.86 27.2059 L1519.86 34.2544 Q1522.21 30.1225 1525.97 28.1376 Q1529.74 26.1121 1535.13 26.1121 Q1535.9 26.1121 1536.83 26.2337 Q1537.76 26.3147 1538.9 26.5172 L1538.94 34.1734 Z\" fill=\"#000000\" fill-rule=\"evenodd\" fill-opacity=\"1\" /><path clip-path=\"url(#clip350)\" d=\"M1562.51 32.4315 Q1556.52 32.4315 1553.03 37.1306 Q1549.55 41.7891 1549.55 49.9314 Q1549.55 58.0738 1552.99 62.7728 Q1556.48 67.4314 1562.51 67.4314 Q1568.47 67.4314 1571.95 62.7323 Q1575.44 58.0333 1575.44 49.9314 Q1575.44 41.8701 1571.95 37.1711 Q1568.47 32.4315 1562.51 32.4315 M1562.51 26.1121 Q1572.24 26.1121 1577.79 32.4315 Q1583.34 38.7509 1583.34 49.9314 Q1583.34 61.0714 1577.79 67.4314 Q1572.24 73.7508 1562.51 73.7508 Q1552.75 73.7508 1547.2 67.4314 Q1541.69 61.0714 1541.69 49.9314 Q1541.69 38.7509 1547.2 32.4315 Q1552.75 26.1121 1562.51 26.1121 Z\" fill=\"#000000\" fill-rule=\"evenodd\" fill-opacity=\"1\" /><path clip-path=\"url(#clip350)\" d=\"M1621.98 34.1734 Q1620.73 33.4443 1619.23 33.1202 Q1617.77 32.7556 1615.99 32.7556 Q1609.67 32.7556 1606.26 36.8875 Q1602.9 40.9789 1602.9 48.6757 L1602.9 72.576 L1595.41 72.576 L1595.41 27.2059 L1602.9 27.2059 L1602.9 34.2544 Q1605.25 30.1225 1609.02 28.1376 Q1612.79 26.1121 1618.17 26.1121 Q1618.94 26.1121 1619.87 26.2337 Q1620.81 26.3147 1621.94 26.5172 L1621.98 34.1734 Z\" fill=\"#000000\" fill-rule=\"evenodd\" fill-opacity=\"1\" /><polyline clip-path=\"url(#clip352)\" style=\"stroke:#009af9; stroke-linecap:butt; stroke-linejoin:round; stroke-width:8; stroke-opacity:1; fill:none\" points=\"\n",
       "  218.416,162.047 220.934,322.394 223.452,273.245 225.97,278.256 228.488,257.04 231.005,276.235 233.523,341.577 236.041,390.602 238.559,441.576 241.077,500.574 \n",
       "  243.595,610.699 246.112,506.149 248.63,672.984 251.148,715.163 253.666,676.27 256.184,766.784 258.702,727.841 261.219,735.785 263.737,774.055 266.255,828.659 \n",
       "  268.773,655.827 271.291,967.62 273.809,966.402 276.326,904.293 278.844,962.453 281.362,1009.26 283.88,901.884 286.398,1060.97 288.915,996.976 291.433,878.538 \n",
       "  293.951,1040.81 296.469,1061.87 298.987,999.356 301.505,1081.55 304.022,1100.14 306.54,1097.22 309.058,1104.86 311.576,1111.84 314.094,1127.99 316.612,1124.18 \n",
       "  319.129,1104.51 321.647,1127.66 324.165,1060.49 326.683,1135.23 329.201,1079.57 331.719,1125.53 334.236,1029.54 336.754,978.237 339.272,1023.05 341.79,1075.62 \n",
       "  344.308,1088.57 346.826,958.103 349.343,1087.93 351.861,1100.57 354.379,1160.63 356.897,1150.42 359.415,1072.03 361.933,1073.52 364.45,1151.18 366.968,1157.71 \n",
       "  369.486,1137.13 372.004,1047.05 374.522,1037.7 377.04,1136.49 379.557,1079.13 382.075,1127.73 384.593,1094.08 387.111,1123.71 389.629,1185.47 392.147,1173.91 \n",
       "  394.664,1200.01 397.182,1204.36 399.7,1168.54 402.218,1199.53 404.736,1196.99 407.254,1217.78 409.771,1187.03 412.289,1189.52 414.807,1194.79 417.325,1187.65 \n",
       "  419.843,1180.85 422.361,1224.35 424.878,1211.1 427.396,1204.94 429.914,1204.8 432.432,1157.56 434.95,1217.05 437.467,1209.05 439.985,1215.24 442.503,1210.28 \n",
       "  445.021,1215.3 447.539,1207.07 450.057,1203.83 452.574,1174.92 455.092,1224.32 457.61,1194.93 460.128,1232.74 462.646,1224.76 465.164,1218.84 467.681,1210.99 \n",
       "  470.199,1200.91 472.717,1222.08 475.235,1219.96 477.753,1232.59 480.271,1219.05 482.788,1205.45 485.306,1218.87 487.824,1221.46 490.342,1222.35 492.86,1203.23 \n",
       "  495.378,1229.7 497.895,1226.13 500.413,1242.5 502.931,1253.42 505.449,1249.58 507.967,1240.99 510.485,1221.48 513.002,1233.22 515.52,1235.93 518.038,1233.87 \n",
       "  520.556,1216.16 523.074,1235.6 525.592,1236.21 528.109,1233.94 530.627,1236.63 533.145,1252.51 535.663,1250.45 538.181,1247.68 540.699,1249.45 543.216,1243.17 \n",
       "  545.734,1238.13 548.252,1257.39 550.77,1193.83 553.288,1259.06 555.806,1259.69 558.323,1255.37 560.841,1261.3 563.359,1258.32 565.877,1262.76 568.395,1247.05 \n",
       "  570.913,1237.75 573.43,1253.01 575.948,1247.43 578.466,1266.34 580.984,1259.2 583.502,1248.39 586.019,1255.57 588.537,1229.67 591.055,1257.98 593.573,1266.47 \n",
       "  596.091,1265.92 598.609,1274 601.126,1254.71 603.644,1242.33 606.162,1228.75 608.68,1240.34 611.198,1269.26 613.716,1262.72 616.233,1257.7 618.751,1225.77 \n",
       "  621.269,1247.18 623.787,1268 626.305,1264.91 628.823,1220.62 631.34,1250.03 633.858,1256.51 636.376,1206.21 638.894,1230.39 641.412,1227.68 643.93,1257.27 \n",
       "  646.447,1249.27 648.965,1242.1 651.483,1260.48 654.001,1235.17 656.519,1257.56 659.037,1262.56 661.554,1264.67 664.072,1270.3 666.59,1278.37 669.108,1274.14 \n",
       "  671.626,1243.97 674.144,1257.44 676.661,1271.71 679.179,1252.57 681.697,1267.76 684.215,1247.67 686.733,1234.39 689.251,1247.46 691.768,1249.4 694.286,1278.01 \n",
       "  696.804,1273.79 699.322,1271.97 701.84,1258.91 704.358,1263.71 706.875,1276.75 709.393,1270.37 711.911,1276.72 714.429,1279.6 716.947,1274.74 719.464,1212.23 \n",
       "  721.982,1246.07 724.5,1277.2 727.018,1274.23 729.536,1261.72 732.054,1273.35 734.571,1270.63 737.089,1227.65 739.607,1261.81 742.125,1269.31 744.643,1282.68 \n",
       "  747.161,1281.82 749.678,1282.08 752.196,1286.12 754.714,1289.81 757.232,1290.26 759.75,1282.1 762.268,1286.21 764.785,1280.98 767.303,1292.03 769.821,1278.54 \n",
       "  772.339,1286.48 774.857,1274.73 777.375,1291.14 779.892,1282.23 782.41,1292.14 784.928,1284.55 787.446,1263.88 789.964,1278.61 792.482,1287.61 794.999,1279.76 \n",
       "  797.517,1286.89 800.035,1293.92 802.553,1297.39 805.071,1290.08 807.589,1291.61 810.106,1289.27 812.624,1298.2 815.142,1299.88 817.66,1298.46 820.178,1287.24 \n",
       "  822.696,1295.6 825.213,1235.59 827.731,1266.55 830.249,1276.12 832.767,1281.5 835.285,1288.13 837.803,1289.41 840.32,1279.49 842.838,1289.71 845.356,1289.08 \n",
       "  847.874,1292.49 850.392,1298.34 852.91,1301.17 855.427,1300.91 857.945,1298.45 860.463,1272.2 862.981,1301.9 865.499,1282.24 868.016,1300.52 870.534,1301.4 \n",
       "  873.052,1296.97 875.57,1301.04 878.088,1272.32 880.606,1295.25 883.123,1288.26 885.641,1292.47 888.159,1273.72 890.677,1286.31 893.195,1308.89 895.713,1323.11 \n",
       "  898.23,1313.29 900.748,1339.36 903.266,1320.44 905.784,1332.6 908.302,1310.26 910.82,1357.48 913.337,1345.57 915.855,1363.12 918.373,1361.25 920.891,1270.93 \n",
       "  923.409,1318.3 925.927,1361.64 928.444,1367.78 930.962,1373.38 933.48,1367.53 935.998,1364.68 938.516,1365.73 941.034,1368.52 943.551,1366.07 946.069,1383.67 \n",
       "  948.587,1390.65 951.105,1391.11 953.623,1382.94 956.141,1393.29 958.658,1329.89 961.176,1380.48 963.694,1332.94 966.212,1362.65 968.73,1380.68 971.248,1379.42 \n",
       "  973.765,1368.97 976.283,1351.41 978.801,1390.13 981.319,1401.36 983.837,1393.82 986.355,1388.93 988.872,1399.47 991.39,1399.02 993.908,1380.97 996.426,1392.89 \n",
       "  998.944,1391.94 1001.46,1389.43 1003.98,1391.67 1006.5,1377.26 1009.01,1378.06 1011.53,1388.86 1014.05,1377.89 1016.57,1369.3 1019.09,1401.85 1021.6,1380.39 \n",
       "  1024.12,1397.99 1026.64,1384.99 1029.16,1386.91 1031.68,1399.5 1034.19,1403.48 1036.71,1389.41 1039.23,1398.39 1041.75,1403.34 1044.26,1403.31 1046.78,1403.91 \n",
       "  1049.3,1411.57 1051.82,1408.03 1054.34,1409.45 1056.85,1404.09 1059.37,1399.2 1061.89,1392.97 1064.41,1397.02 1066.93,1396.63 1069.44,1400.6 1071.96,1391.24 \n",
       "  1074.48,1409.81 1077,1411.11 1079.51,1403.06 1082.03,1403.36 1084.55,1401.54 1087.07,1399.05 1089.59,1389.79 1092.1,1385.61 1094.62,1364.58 1097.14,1392.95 \n",
       "  1099.66,1404.97 1102.17,1392.38 1104.69,1384.24 1107.21,1383.04 1109.73,1391.84 1112.25,1398.36 1114.76,1372.71 1117.28,1387.38 1119.8,1364.46 1122.32,1394.53 \n",
       "  1124.84,1392.75 1127.35,1375.37 1129.87,1395.07 1132.39,1398.9 1134.91,1396.69 1137.42,1374.76 1139.94,1411.54 1142.46,1410.96 1144.98,1401.74 1147.5,1368.52 \n",
       "  1150.01,1399.71 1152.53,1409.64 1155.05,1411.59 1157.57,1406.21 1160.08,1409.89 1162.6,1412.99 1165.12,1413.51 1167.64,1409.24 1170.16,1337.37 1172.67,1391.75 \n",
       "  1175.19,1408.88 1177.71,1396.21 1180.23,1416.02 1182.75,1400.26 1185.26,1405.88 1187.78,1402.64 1190.3,1411.92 1192.82,1413.11 1195.33,1413.55 1197.85,1409.51 \n",
       "  1200.37,1414.94 1202.89,1410.45 1205.41,1415.56 1207.92,1416.42 1210.44,1413.14 1212.96,1373.17 1215.48,1408.33 1217.99,1412.95 1220.51,1393 1223.03,1400.35 \n",
       "  1225.55,1395.35 1228.07,1407.13 1230.58,1402.09 1233.1,1405.43 1235.62,1414.2 1238.14,1393.82 1240.66,1402.25 1243.17,1403.18 1245.69,1393.84 1248.21,1362.14 \n",
       "  1250.73,1396.61 1253.24,1403.16 1255.76,1378.27 1258.28,1401.45 1260.8,1408.99 1263.32,1412.27 1265.83,1412.11 1268.35,1409.3 1270.87,1413.15 1273.39,1408.38 \n",
       "  1275.91,1397.61 1278.42,1401.38 1280.94,1411.2 1283.46,1420.26 1285.98,1420.91 1288.49,1398.76 1291.01,1411.18 1293.53,1419.41 1296.05,1418.25 1298.57,1414.06 \n",
       "  1301.08,1387.34 1303.6,1392.99 1306.12,1406.3 1308.64,1414.04 1311.15,1412.21 1313.67,1413.99 1316.19,1407.34 1318.71,1407.47 1321.23,1414.14 1323.74,1415.39 \n",
       "  1326.26,1421.67 1328.78,1418.46 1331.3,1421.8 1333.82,1418.05 1336.33,1415.27 1338.85,1412.13 1341.37,1415.34 1343.89,1421.84 1346.4,1419.1 1348.92,1423.69 \n",
       "  1351.44,1410.85 1353.96,1407.1 1356.48,1423.13 1358.99,1412.24 1361.51,1419.78 1364.03,1425.68 1366.55,1426.31 1369.06,1422 1371.58,1417.18 1374.1,1403.87 \n",
       "  1376.62,1389.8 1379.14,1404.03 1381.65,1406.6 1384.17,1410.4 1386.69,1400.58 1389.21,1421.49 1391.73,1417.67 1394.24,1418.06 1396.76,1395.87 1399.28,1418.39 \n",
       "  1401.8,1423.04 1404.31,1417.83 1406.83,1409.4 1409.35,1411.63 1411.87,1417.63 1414.39,1419.85 1416.9,1422.37 1419.42,1423.56 1421.94,1417.86 1424.46,1428.19 \n",
       "  1426.97,1423.89 1429.49,1424.53 1432.01,1393.87 1434.53,1418.78 1437.05,1427.85 1439.56,1423.25 1442.08,1426.42 1444.6,1427.04 1447.12,1426.15 1449.64,1424.9 \n",
       "  1452.15,1428.44 1454.67,1398.64 1457.19,1401.13 1459.71,1416.45 1462.22,1420.3 1464.74,1423.58 1467.26,1415.7 1469.78,1420.06 1472.3,1425.89 1474.81,1420.98 \n",
       "  1477.33,1422.33 1479.85,1420.85 1482.37,1411 1484.88,1420.74 1487.4,1423.29 1489.92,1418.87 1492.44,1428.17 1494.96,1413.27 1497.47,1425.89 1499.99,1426.41 \n",
       "  1502.51,1423 1505.03,1413.93 1507.55,1416.39 1510.06,1381.15 1512.58,1414.92 1515.1,1412.05 1517.62,1414.8 1520.13,1420.17 1522.65,1417.23 1525.17,1422.36 \n",
       "  1527.69,1424.87 1530.21,1428.72 1532.72,1421.59 1535.24,1413.32 1537.76,1420.82 1540.28,1426.63 1542.8,1422.46 1545.31,1428.03 1547.83,1429.95 1550.35,1429.29 \n",
       "  1552.87,1423.39 1555.38,1395.95 1557.9,1403.04 1560.42,1426.85 1562.94,1421.58 1565.46,1428.09 1567.97,1429.5 1570.49,1425.99 1573.01,1426.33 1575.53,1429.12 \n",
       "  1578.04,1421.85 1580.56,1412.79 1583.08,1422.37 1585.6,1413.84 1588.12,1413.5 1590.63,1424.72 1593.15,1429.44 1595.67,1422.84 1598.19,1421.94 1600.71,1428.11 \n",
       "  1603.22,1428.36 1605.74,1431.67 1608.26,1418.28 1610.78,1431.39 1613.29,1423.33 1615.81,1431.91 1618.33,1431.71 1620.85,1420.42 1623.37,1428.24 1625.88,1424.97 \n",
       "  1628.4,1420.59 1630.92,1409.39 1633.44,1432.21 1635.95,1424.56 1638.47,1431.62 1640.99,1431.24 1643.51,1434.89 1646.03,1432.18 1648.54,1423.49 1651.06,1432.38 \n",
       "  1653.58,1430.19 1656.1,1423.11 1658.62,1436.16 1661.13,1423.71 1663.65,1414.25 1666.17,1425.73 1668.69,1431.1 1671.2,1434.46 1673.72,1419.26 1676.24,1423.08 \n",
       "  1678.76,1427.84 1681.28,1421.81 1683.79,1433.2 1686.31,1432.17 1688.83,1435.46 1691.35,1430.75 1693.86,1426.64 1696.38,1432.91 1698.9,1434.65 1701.42,1434.94 \n",
       "  1703.94,1434.85 1706.45,1433.35 1708.97,1428.16 1711.49,1428.87 1714.01,1406.91 1716.53,1430.16 1719.04,1436.78 1721.56,1437.35 1724.08,1405.49 1726.6,1427.87 \n",
       "  1729.11,1421.66 1731.63,1431.83 1734.15,1436.54 1736.67,1435.99 1739.19,1422.93 1741.7,1423.1 1744.22,1428.86 1746.74,1426.99 1749.26,1426.43 1751.77,1420.63 \n",
       "  1754.29,1420.89 1756.81,1423.73 1759.33,1422.96 1761.85,1432.91 1764.36,1423.74 1766.88,1429.33 1769.4,1423.22 1771.92,1428.23 1774.44,1432.63 1776.95,1434.09 \n",
       "  1779.47,1435.96 1781.99,1420 1784.51,1428.89 1787.02,1426.34 1789.54,1427.13 1792.06,1431.84 1794.58,1438.82 1797.1,1430.2 1799.61,1432.86 1802.13,1436.74 \n",
       "  1804.65,1433.03 1807.17,1428.19 1809.69,1433.64 1812.2,1434.92 1814.72,1440.25 1817.24,1435.6 1819.76,1434.68 1822.27,1438.96 1824.79,1441.15 1827.31,1430.81 \n",
       "  1829.83,1433.16 1832.35,1437.91 1834.86,1439.42 1837.38,1435.23 1839.9,1437.46 1842.42,1442.95 1844.93,1443.58 1847.45,1436.85 1849.97,1441.13 1852.49,1442.82 \n",
       "  1855.01,1443.23 1857.52,1437.06 1860.04,1434.52 1862.56,1436.35 1865.08,1433.57 1867.6,1431.29 1870.11,1436.39 1872.63,1425.26 1875.15,1423.82 1877.67,1432.7 \n",
       "  1880.18,1439.84 1882.7,1434.56 1885.22,1420.42 1887.74,1430.5 1890.26,1433.07 1892.77,1436.46 1895.29,1435.1 1897.81,1436.2 1900.33,1437.2 1902.84,1442.25 \n",
       "  1905.36,1443.08 1907.88,1430.71 1910.4,1425.62 1912.92,1433.43 1915.43,1434.66 1917.95,1430.2 1920.47,1441.24 1922.99,1440.46 1925.51,1433.61 1928.02,1439.71 \n",
       "  1930.54,1439.74 1933.06,1437.48 1935.58,1439.7 1938.09,1442.39 1940.61,1444.53 1943.13,1443.54 1945.65,1440.81 1948.17,1438.67 1950.68,1440.74 1953.2,1404.54 \n",
       "  1955.72,1429.68 1958.24,1437.02 1960.75,1438.72 1963.27,1430.85 1965.79,1437.85 1968.31,1440.05 1970.83,1441.08 1973.34,1433.16 1975.86,1427.33 1978.38,1428.77 \n",
       "  1980.9,1438.4 1983.42,1440.65 1985.93,1440.87 1988.45,1440.23 1990.97,1435.36 1993.49,1436.39 1996,1439.49 1998.52,1441.74 2001.04,1441.79 2003.56,1443.18 \n",
       "  2006.08,1443.15 2008.59,1441.88 2011.11,1441.62 2013.63,1438.44 2016.15,1439.65 2018.66,1394.53 2021.18,1416.73 2023.7,1431.88 2026.22,1437.07 2028.74,1438.51 \n",
       "  2031.25,1439.16 2033.77,1435.16 2036.29,1440.18 2038.81,1440.51 2041.33,1401.88 2043.84,1408.29 2046.36,1428.64 2048.88,1430.58 2051.4,1427.13 2053.91,1433.6 \n",
       "  2056.43,1438.22 2058.95,1437.64 2061.47,1438.01 2063.99,1425.73 2066.5,1405.51 2069.02,1421.99 2071.54,1409.56 2074.06,1427.69 2076.58,1426.05 2079.09,1431.93 \n",
       "  2081.61,1438.33 2084.13,1439.83 2086.65,1438.95 2089.16,1430.58 2091.68,1431.13 2094.2,1436.96 2096.72,1438.9 2099.24,1425.16 2101.75,1438.18 2104.27,1442.48 \n",
       "  2106.79,1442.22 2109.31,1442.43 2111.82,1422.66 2114.34,1422.32 2116.86,1436.08 2119.38,1388.99 2121.9,1439.38 2124.41,1435.85 2126.93,1441.75 2129.45,1444.36 \n",
       "  2131.97,1437.21 2134.49,1438.48 2137,1428.81 2139.52,1434.9 2142.04,1435.02 2144.56,1438.54 2147.07,1434.48 2149.59,1430.1 2152.11,1421.06 2154.63,1439.38 \n",
       "  2157.15,1443 2159.66,1445.68 2162.18,1443.94 2164.7,1445.54 2167.22,1447.87 2169.73,1447.21 2172.25,1445.07 2174.77,1446.32 2177.29,1446.27 2179.81,1447.23 \n",
       "  2182.32,1433.63 2184.84,1436.27 2187.36,1441.23 2189.88,1431.95 2192.4,1440.02 2194.91,1440.39 2197.43,1445.75 2199.95,1441.12 2202.47,1446.21 2204.98,1433.18 \n",
       "  2207.5,1433.89 2210.02,1427.2 2212.54,1439.2 2215.06,1444.39 2217.57,1444.75 2220.09,1445.38 2222.61,1446.76 2225.13,1444.85 2227.64,1440.92 2230.16,1441.3 \n",
       "  2232.68,1441.6 2235.2,1438.49 2237.72,1441.78 2240.23,1441.93 2242.75,1445.44 2245.27,1445.66 2247.79,1444.88 2250.31,1440.69 2252.82,1444.74 2255.34,1446.44 \n",
       "  2257.86,1443.39 2260.38,1445.26 2262.89,1445.2 2265.41,1439.1 2267.93,1439.12 2270.45,1438.83 2272.97,1439.6 2275.48,1436.98 2278,1435.81 2280.52,1446.01 \n",
       "  2283.04,1447.44 2285.56,1435.62 2288.07,1426.48 2290.59,1437.65 \n",
       "  \"/>\n",
       "<polyline clip-path=\"url(#clip352)\" style=\"stroke:#e26f46; stroke-linecap:butt; stroke-linejoin:round; stroke-width:8; stroke-opacity:1; fill:none\" points=\"\n",
       "  218.416,164.3 220.934,320.328 223.452,276.556 225.97,287.671 228.488,257.666 231.005,282.953 233.523,340.06 236.041,391.718 238.559,435.344 241.077,501.678 \n",
       "  243.595,609.885 246.112,503.172 248.63,673.838 251.148,731.121 253.666,678.924 256.184,775.34 258.702,735.761 261.219,742.496 263.737,780.38 266.255,831.555 \n",
       "  268.773,663.885 271.291,969.712 273.809,976.467 276.326,911.529 278.844,973.453 281.362,1013.55 283.88,908.186 286.398,1066.35 288.915,1007.04 291.433,896.376 \n",
       "  293.951,1049.63 296.469,1067.95 298.987,1008.67 301.505,1088.46 304.022,1109.03 306.54,1104.04 309.058,1116.8 311.576,1125.71 314.094,1136.75 316.612,1132.84 \n",
       "  319.129,1113.45 321.647,1136.82 324.165,1064.39 326.683,1147.7 329.201,1087.53 331.719,1136.1 334.236,1040.66 336.754,993.581 339.272,1039.24 341.79,1089.35 \n",
       "  344.308,1100.1 346.826,974.003 349.343,1095.5 351.861,1111.97 354.379,1167.03 356.897,1162.31 359.415,1082.71 361.933,1081.34 364.45,1160.82 366.968,1167.69 \n",
       "  369.486,1143.08 372.004,1057.54 374.522,1043.61 377.04,1144.82 379.557,1138.08 382.075,1102 384.593,1130.51 387.111,1194.99 389.629,1184.47 392.147,1211.99 \n",
       "  394.664,1212.33 397.182,1177.6 399.7,1207.16 402.218,1205.78 404.736,1228.57 407.254,1200.93 409.771,1202.55 412.289,1206.19 414.807,1198.88 417.325,1193.34 \n",
       "  419.843,1235.59 422.361,1223.04 424.878,1213.2 427.396,1214.07 429.914,1173.47 432.432,1223.5 434.95,1215.14 437.467,1222.51 439.985,1220.37 442.503,1223.1 \n",
       "  445.021,1215.39 447.539,1214.04 450.057,1183.84 452.574,1229.99 455.092,1201.83 457.61,1240.54 460.128,1231.81 462.646,1223.45 465.164,1215.93 467.681,1207.95 \n",
       "  470.199,1225.75 472.717,1223.58 475.235,1235.33 477.753,1224.5 480.271,1209.38 482.788,1223.98 485.306,1226.32 487.824,1223.88 490.342,1205.76 492.86,1232.51 \n",
       "  495.378,1231.01 497.895,1249.12 500.413,1256.44 502.931,1254.84 505.449,1245.89 507.967,1226.98 510.485,1237.88 513.002,1241.5 515.52,1242.36 518.038,1224.12 \n",
       "  520.556,1242.67 523.074,1241.79 525.592,1237.74 528.109,1241.65 530.627,1259.08 533.145,1257.54 535.663,1255.4 538.181,1256.27 540.699,1248.19 543.216,1242.61 \n",
       "  545.734,1262.06 548.252,1197.32 550.77,1260.05 553.288,1260.17 555.806,1257.61 558.323,1263.04 560.841,1261.85 563.359,1265.82 565.877,1254.08 568.395,1244.82 \n",
       "  570.913,1259.46 573.43,1255 575.948,1270.39 578.466,1264.17 580.984,1251.29 583.502,1259.72 586.019,1230.97 588.537,1262.64 591.055,1270.72 593.573,1272.32 \n",
       "  596.091,1278.32 598.609,1257.87 601.126,1247.9 603.644,1231.93 606.162,1244.36 608.68,1273.23 611.198,1263.96 613.716,1257.14 616.233,1230.7 618.751,1251.22 \n",
       "  621.269,1270.72 623.787,1265.74 626.305,1223.61 628.823,1253.74 631.34,1256.74 633.858,1205.68 636.376,1235.59 638.894,1235.17 641.412,1262.12 643.93,1254.27 \n",
       "  646.447,1245.98 648.965,1263.17 651.483,1238.26 654.001,1260.55 656.519,1266.2 659.037,1270.4 661.554,1277.79 664.072,1283.79 666.59,1277.17 669.108,1250.03 \n",
       "  671.626,1260.91 674.144,1275.96 676.661,1253.84 679.179,1270.94 681.697,1252.53 684.215,1236.77 686.733,1250.62 689.251,1253.31 691.768,1279.79 694.286,1275.06 \n",
       "  696.804,1271.48 699.322,1260.82 701.84,1263.56 704.358,1278.92 706.875,1272.97 709.393,1279.2 711.911,1280.64 714.429,1277.9 716.947,1215.8 719.464,1250.77 \n",
       "  721.982,1278.68 724.5,1278.25 727.018,1266.65 729.536,1277.83 732.054,1273.65 734.571,1232.21 737.089,1263.82 739.607,1272.35 742.125,1286.49 744.643,1284.63 \n",
       "  747.161,1286.37 749.678,1286.91 752.196,1289.42 754.714,1289.24 757.232,1283.5 759.75,1288.29 762.268,1283.38 764.785,1293.29 767.303,1277.72 769.821,1285.97 \n",
       "  772.339,1276.84 774.857,1291.84 777.375,1285.06 779.892,1290.45 782.41,1285.29 784.928,1263.07 787.446,1283.4 789.964,1291.45 792.482,1280.95 794.999,1291.94 \n",
       "  797.517,1295.14 800.035,1294.75 802.553,1288.74 805.071,1290.98 807.589,1290.24 810.106,1297.79 812.624,1300.21 815.142,1299.88 817.66,1290.15 820.178,1295.44 \n",
       "  822.696,1240.59 825.213,1270.96 827.731,1277.72 830.249,1285.29 832.767,1288.11 835.285,1290.13 837.803,1280.48 840.32,1292.49 842.838,1291.09 845.356,1296.1 \n",
       "  847.874,1300.55 850.392,1304.85 852.91,1304.38 855.427,1299.9 857.945,1276.88 860.463,1306.55 862.981,1283.65 865.499,1304.39 868.016,1305.65 870.534,1299.12 \n",
       "  873.052,1304.03 875.57,1276.78 878.088,1297.34 880.606,1291.03 883.123,1293.66 885.641,1272.56 888.159,1287.37 890.677,1308.47 893.195,1319.99 895.713,1315.5 \n",
       "  898.23,1341.1 900.748,1319.71 903.266,1331.04 905.784,1308.55 908.302,1359.46 910.82,1338.14 913.337,1367.11 915.855,1360.86 918.373,1276.87 920.891,1321.93 \n",
       "  923.409,1360.1 925.927,1372.2 928.444,1374.67 930.962,1370.03 933.48,1363.61 935.998,1374.19 938.516,1374.14 941.034,1373.45 943.551,1387.39 946.069,1394.6 \n",
       "  948.587,1393.99 951.105,1385.05 953.623,1395.14 956.141,1332.95 958.658,1384.05 961.176,1336.16 963.694,1364.48 966.212,1384.87 968.73,1382.41 971.248,1373.9 \n",
       "  973.765,1354.79 976.283,1389.72 978.801,1403.6 981.319,1396.48 983.837,1391.59 986.355,1400.67 988.872,1397.97 991.39,1382.07 993.908,1395.81 996.426,1389.89 \n",
       "  998.944,1389.26 1001.46,1390.71 1003.98,1377.48 1006.5,1379.2 1009.01,1387.93 1011.53,1378.82 1014.05,1371.75 1016.57,1399.92 1019.09,1381.73 1021.6,1399.29 \n",
       "  1024.12,1385.56 1026.64,1386.85 1029.16,1398.6 1031.68,1402.13 1034.19,1389.86 1036.71,1400.17 1039.23,1403.55 1041.75,1404.06 1044.26,1404.98 1046.78,1410.77 \n",
       "  1049.3,1407.39 1051.82,1410.63 1054.34,1405.75 1056.85,1399.34 1059.37,1393.74 1061.89,1401.48 1064.41,1399.1 1066.93,1400.16 1069.44,1392.23 1071.96,1409.94 \n",
       "  1074.48,1410.23 1077,1401.28 1079.51,1404.89 1082.03,1401.68 1084.55,1400.31 1087.07,1392.12 1089.59,1388.16 1092.1,1368.7 1094.62,1394.33 1097.14,1407.79 \n",
       "  1099.66,1393.37 1102.17,1384.39 1104.69,1384.68 1107.21,1394.01 1109.73,1398.64 1112.25,1377.13 1114.76,1392.06 1117.28,1367.65 1119.8,1396.07 1122.32,1395.82 \n",
       "  1124.84,1376.08 1127.35,1395.39 1129.87,1404.16 1132.39,1401.23 1134.91,1375.31 1137.42,1413.54 1139.94,1413.57 1142.46,1404.2 1144.98,1370.65 1147.5,1403.49 \n",
       "  1150.01,1413.48 1152.53,1412.82 1155.05,1409.34 1157.57,1411.81 1160.08,1415.17 1162.6,1416.37 1165.12,1410.61 1167.64,1339.78 1170.16,1393.79 1172.67,1410.8 \n",
       "  1175.19,1398.74 1177.71,1419.59 1180.23,1402.19 1182.75,1410.15 1185.26,1403.31 1187.78,1414.15 1190.3,1414.71 1192.82,1416.31 1195.33,1410.96 1197.85,1415.84 \n",
       "  1200.37,1410.72 1202.89,1416.86 1205.41,1416.46 1207.92,1412.25 1210.44,1374.4 1212.96,1408.15 1215.48,1412.65 1217.99,1395 1220.51,1402.72 1223.03,1399.75 \n",
       "  1225.55,1408.94 1228.07,1402.96 1230.58,1409.24 1233.1,1415.39 1235.62,1396.83 1238.14,1404.84 1240.66,1403.4 1243.17,1394.94 1245.69,1366.96 1248.21,1399.23 \n",
       "  1250.73,1403.84 1253.24,1378.22 1255.76,1402.45 1258.28,1410.62 1260.8,1412.8 1263.32,1412.17 1265.83,1410.53 1268.35,1413.83 1270.87,1407.43 1273.39,1398.79 \n",
       "  1275.91,1401.2 1278.42,1411.7 1280.94,1424.43 1283.46,1422.9 1285.98,1400.64 1288.49,1412.79 1291.01,1422.25 1293.53,1419.14 1296.05,1414.17 1298.57,1389.01 \n",
       "  1301.08,1394.09 1303.6,1408.57 1306.12,1417.28 1308.64,1412.14 1311.15,1413.8 1313.67,1404.43 1316.19,1408.57 1318.71,1415.35 1321.23,1414.33 1323.74,1423.03 \n",
       "  1326.26,1419.7 1328.78,1421.63 1331.3,1418.96 1333.82,1418.8 1336.33,1412.63 1338.85,1413.98 1341.37,1420.68 1343.89,1420.86 1346.4,1424.42 1348.92,1411.01 \n",
       "  1351.44,1406.61 1353.96,1423.27 1356.48,1414.53 1358.99,1420.65 1361.51,1423.8 1364.03,1425.08 1366.55,1423.78 1369.06,1418.55 1371.58,1405.61 1374.1,1392.17 \n",
       "  1376.62,1407.71 1379.14,1409.66 1381.65,1411.72 1384.17,1399.37 1386.69,1425.3 1389.21,1420.69 1391.73,1421.63 1394.24,1398.02 1396.76,1417.56 1399.28,1423.92 \n",
       "  1401.8,1416.92 1404.31,1407.07 1406.83,1409.79 1409.35,1416.25 1411.87,1419.34 1414.39,1422.14 1416.9,1422.85 1419.42,1419.65 1421.94,1428.88 1424.46,1424.43 \n",
       "  1426.97,1425.94 1429.49,1395.01 1432.01,1417.92 1434.53,1426.17 1437.05,1426.03 1439.56,1426.39 1442.08,1428.23 1444.6,1426.82 1447.12,1424.69 1449.64,1424.28 \n",
       "  1452.15,1396.02 1454.67,1398.61 1457.19,1412.64 1459.71,1417.02 1462.22,1420.59 1464.74,1413.5 1467.26,1418.91 1469.78,1425.44 1472.3,1421.59 1474.81,1422.94 \n",
       "  1477.33,1419.47 1479.85,1408.94 1482.37,1419.34 1484.88,1422.72 1487.4,1418.45 1489.92,1426.34 1492.44,1412.68 1494.96,1425.84 1497.47,1424.71 1499.99,1422.16 \n",
       "  1502.51,1414.42 1505.03,1418.91 1507.55,1382.77 1510.06,1413.13 1512.58,1410.21 1515.1,1411.96 1517.62,1416.6 1520.13,1415.12 1522.65,1418.79 1525.17,1421.84 \n",
       "  1527.69,1426.03 1530.21,1419.5 1532.72,1412.99 1535.24,1419.24 1537.76,1424.56 1540.28,1422.48 1542.8,1425.43 1545.31,1428.71 1547.83,1426.91 1550.35,1422.28 \n",
       "  1552.87,1395.63 1555.38,1401.23 1557.9,1426.87 1560.42,1422.44 1562.94,1430.51 1565.46,1431.45 1567.97,1427.19 1570.49,1426.14 1573.01,1426.85 1575.53,1419.04 \n",
       "  1578.04,1415.83 1580.56,1422.64 1583.08,1412.14 1585.6,1409.8 1588.12,1422.76 1590.63,1426.2 1593.15,1420.19 1595.67,1418.46 1598.19,1423.9 1600.71,1424.23 \n",
       "  1603.22,1428.84 1605.74,1418.42 1608.26,1430.29 1610.78,1423.64 1613.29,1430.99 1615.81,1431.7 1618.33,1419.03 1620.85,1427.34 1623.37,1425.68 1625.88,1417.43 \n",
       "  1628.4,1410.05 1630.92,1431.02 1633.44,1423.98 1635.95,1432.35 1638.47,1431.14 1640.99,1435.31 1643.51,1429.83 1646.03,1421.03 1648.54,1430.08 1651.06,1428.51 \n",
       "  1653.58,1419.38 1656.1,1434.49 1658.62,1420.48 1661.13,1409.8 1663.65,1421.78 1666.17,1428.6 1668.69,1432.13 1671.2,1416.77 1673.72,1419.64 1676.24,1424.88 \n",
       "  1678.76,1421.01 1681.28,1428.29 1683.79,1427.29 1686.31,1431.31 1688.83,1426.2 1691.35,1422.23 1693.86,1429.48 1696.38,1431.6 1698.9,1431.19 1701.42,1429.94 \n",
       "  1703.94,1428.71 1706.45,1425.38 1708.97,1425.32 1711.49,1400.99 1714.01,1427.6 1716.53,1432.28 1719.04,1433.21 1721.56,1401.09 1724.08,1422.24 1726.6,1419.06 \n",
       "  1729.11,1428.1 1731.63,1432.47 1734.15,1433.66 1736.67,1418.7 1739.19,1418.43 1741.7,1425.64 1744.22,1424.22 1746.74,1422.57 1749.26,1417.26 1751.77,1417.3 \n",
       "  1754.29,1420.43 1756.81,1421.32 1759.33,1429.41 1761.85,1419.27 1764.36,1426.31 1766.88,1417.26 1769.4,1425.56 1771.92,1428.39 1774.44,1429.72 1776.95,1430.35 \n",
       "  1779.47,1414.9 1781.99,1423.82 1784.51,1422.42 1787.02,1421.85 1789.54,1427.07 1792.06,1435.44 1794.58,1425.48 1797.1,1426.85 1799.61,1433.94 1802.13,1426.94 \n",
       "  1804.65,1421.05 1807.17,1425.53 1809.69,1427.11 1812.2,1434.95 1814.72,1432.57 1817.24,1431.83 1819.76,1433.53 1822.27,1436.77 1824.79,1429.14 1827.31,1432.44 \n",
       "  1829.83,1433.79 1832.35,1436.68 1834.86,1434.21 1837.38,1434.93 1839.9,1438.96 1842.42,1440.39 1844.93,1436.23 1847.45,1438.24 1849.97,1439.24 1852.49,1439.46 \n",
       "  1855.01,1432.13 1857.52,1427.29 1860.04,1429.79 1862.56,1428.91 1865.08,1425.06 1867.6,1432.76 1870.11,1420.28 1872.63,1421.8 1875.15,1432.14 1877.67,1437.13 \n",
       "  1880.18,1430.52 1882.7,1409.53 1885.22,1422.08 1887.74,1425.48 1890.26,1431.45 1892.77,1430.12 1895.29,1433.76 1897.81,1435.01 1900.33,1438.55 1902.84,1439.18 \n",
       "  1905.36,1425.25 1907.88,1422.41 1910.4,1431.42 1912.92,1432.35 1915.43,1425.05 1917.95,1435.33 1920.47,1434.8 1922.99,1429.04 1925.51,1433.62 1928.02,1435.89 \n",
       "  1930.54,1433.71 1933.06,1435.14 1935.58,1438 1938.09,1440.68 1940.61,1438.23 1943.13,1433.55 1945.65,1432 1948.17,1433.58 1950.68,1401.17 1953.2,1425.22 \n",
       "  1955.72,1431.55 1958.24,1432.06 1960.75,1427.29 1963.27,1431.69 1965.79,1435.4 1968.31,1436.47 1970.83,1427.8 1973.34,1421.44 1975.86,1423.4 1978.38,1433.59 \n",
       "  1980.9,1436.86 1983.42,1435.82 1985.93,1436.77 1988.45,1428.47 1990.97,1429.69 1993.49,1432.77 1996,1436.53 1998.52,1436.98 2001.04,1438.71 2003.56,1440.26 \n",
       "  2006.08,1438.38 2008.59,1437.83 2011.11,1434.44 2013.63,1436.8 2016.15,1391.02 2018.66,1414.01 2021.18,1429.81 2023.7,1432.11 2026.22,1435.31 2028.74,1435.14 \n",
       "  2031.25,1430.29 2033.77,1436.12 2036.29,1435.73 2038.81,1401.33 2041.33,1405.51 2043.84,1426.08 2046.36,1426.29 2048.88,1424.06 2051.4,1430.03 2053.91,1434.15 \n",
       "  2056.43,1431.85 2058.95,1432.54 2061.47,1419.22 2063.99,1398.49 2066.5,1416.46 2069.02,1402.82 2071.54,1420.23 2074.06,1420.83 2076.58,1426.78 2079.09,1433.45 \n",
       "  2081.61,1435.2 2084.13,1432.91 2086.65,1424.89 2089.16,1425.38 2091.68,1429.08 2094.2,1429.46 2096.72,1418.31 2099.24,1430.96 2101.75,1436.06 2104.27,1435.82 \n",
       "  2106.79,1435.37 2109.31,1414.29 2111.82,1414.29 2114.34,1430.31 2116.86,1386.42 2119.38,1435.53 2121.9,1431.92 2124.41,1438.71 2126.93,1440.54 2129.45,1431.93 \n",
       "  2131.97,1434.36 2134.49,1427.73 2137,1430.26 2139.52,1432.08 2142.04,1436 2144.56,1430.68 2147.07,1424.51 2149.59,1415.26 2152.11,1434.41 2154.63,1438.24 \n",
       "  2157.15,1439.55 2159.66,1437.33 2162.18,1439.38 2164.7,1442.04 2167.22,1441.28 2169.73,1440.19 2172.25,1441.46 2174.77,1441.53 2177.29,1441.77 2179.81,1427.69 \n",
       "  2182.32,1431.35 2184.84,1435.42 2187.36,1428.47 2189.88,1435.33 2192.4,1435.18 2194.91,1438.93 2197.43,1437.33 2199.95,1441.5 2202.47,1428.1 2204.98,1432.13 \n",
       "  2207.5,1425.4 2210.02,1435.3 2212.54,1440.38 2215.06,1440.17 2217.57,1440.36 2220.09,1441.2 2222.61,1438.9 2225.13,1434.49 2227.64,1435.03 2230.16,1437.41 \n",
       "  2232.68,1435.51 2235.2,1439.83 2237.72,1440.87 2240.23,1442.18 2242.75,1442.35 2245.27,1445.28 2247.79,1438.74 2250.31,1442.65 2252.82,1443.9 2255.34,1438.4 \n",
       "  2257.86,1439.97 2260.38,1440.45 2262.89,1435.51 2265.41,1435.53 2267.93,1435.01 2270.45,1434.2 2272.97,1433.88 2275.48,1428.25 2278,1439.27 2280.52,1441.33 \n",
       "  2283.04,1430.58 2285.56,1420.89 2288.07,1433.4 \n",
       "  \"/>\n",
       "<path clip-path=\"url(#clip350)\" d=\"\n",
       "M1930.44 324.425 L2279.54 324.425 L2279.54 168.905 L1930.44 168.905  Z\n",
       "  \" fill=\"#ffffff\" fill-rule=\"evenodd\" fill-opacity=\"1\"/>\n",
       "<polyline clip-path=\"url(#clip350)\" style=\"stroke:#000000; stroke-linecap:butt; stroke-linejoin:round; stroke-width:4; stroke-opacity:1; fill:none\" points=\"\n",
       "  1930.44,324.425 2279.54,324.425 2279.54,168.905 1930.44,168.905 1930.44,324.425 \n",
       "  \"/>\n",
       "<polyline clip-path=\"url(#clip350)\" style=\"stroke:#009af9; stroke-linecap:butt; stroke-linejoin:round; stroke-width:4; stroke-opacity:1; fill:none\" points=\"\n",
       "  1954.84,220.745 2101.28,220.745 \n",
       "  \"/>\n",
       "<path clip-path=\"url(#clip350)\" d=\"M2133.09 204.738 L2133.09 212.099 L2141.86 212.099 L2141.86 215.409 L2133.09 215.409 L2133.09 229.483 Q2133.09 232.654 2133.95 233.557 Q2134.83 234.46 2137.49 234.46 L2141.86 234.46 L2141.86 238.025 L2137.49 238.025 Q2132.56 238.025 2130.68 236.196 Q2128.81 234.344 2128.81 229.483 L2128.81 215.409 L2125.68 215.409 L2125.68 212.099 L2128.81 212.099 L2128.81 204.738 L2133.09 204.738 Z\" fill=\"#000000\" fill-rule=\"evenodd\" fill-opacity=\"1\" /><path clip-path=\"url(#clip350)\" d=\"M2162.49 216.08 Q2161.77 215.664 2160.91 215.478 Q2160.08 215.27 2159.06 215.27 Q2155.45 215.27 2153.51 217.631 Q2151.58 219.969 2151.58 224.367 L2151.58 238.025 L2147.3 238.025 L2147.3 212.099 L2151.58 212.099 L2151.58 216.127 Q2152.93 213.766 2155.08 212.631 Q2157.23 211.474 2160.31 211.474 Q2160.75 211.474 2161.28 211.543 Q2161.82 211.59 2162.46 211.705 L2162.49 216.08 Z\" fill=\"#000000\" fill-rule=\"evenodd\" fill-opacity=\"1\" /><path clip-path=\"url(#clip350)\" d=\"M2178.74 224.992 Q2173.58 224.992 2171.58 226.173 Q2169.59 227.353 2169.59 230.201 Q2169.59 232.469 2171.08 233.812 Q2172.58 235.131 2175.15 235.131 Q2178.69 235.131 2180.82 232.631 Q2182.97 230.108 2182.97 225.941 L2182.97 224.992 L2178.74 224.992 M2187.23 223.233 L2187.23 238.025 L2182.97 238.025 L2182.97 234.089 Q2181.52 236.451 2179.34 237.585 Q2177.16 238.696 2174.02 238.696 Q2170.03 238.696 2167.67 236.474 Q2165.33 234.228 2165.33 230.478 Q2165.33 226.103 2168.25 223.881 Q2171.19 221.659 2177 221.659 L2182.97 221.659 L2182.97 221.242 Q2182.97 218.303 2181.03 216.705 Q2179.11 215.085 2175.61 215.085 Q2173.39 215.085 2171.28 215.617 Q2169.18 216.15 2167.23 217.215 L2167.23 213.279 Q2169.57 212.377 2171.77 211.937 Q2173.97 211.474 2176.05 211.474 Q2181.68 211.474 2184.45 214.391 Q2187.23 217.307 2187.23 223.233 Z\" fill=\"#000000\" fill-rule=\"evenodd\" fill-opacity=\"1\" /><path clip-path=\"url(#clip350)\" d=\"M2196.01 212.099 L2200.27 212.099 L2200.27 238.025 L2196.01 238.025 L2196.01 212.099 M2196.01 202.006 L2200.27 202.006 L2200.27 207.4 L2196.01 207.4 L2196.01 202.006 Z\" fill=\"#000000\" fill-rule=\"evenodd\" fill-opacity=\"1\" /><path clip-path=\"url(#clip350)\" d=\"M2230.73 222.377 L2230.73 238.025 L2226.47 238.025 L2226.47 222.515 Q2226.47 218.835 2225.03 217.006 Q2223.6 215.178 2220.73 215.178 Q2217.28 215.178 2215.29 217.377 Q2213.3 219.576 2213.3 223.372 L2213.3 238.025 L2209.02 238.025 L2209.02 212.099 L2213.3 212.099 L2213.3 216.127 Q2214.83 213.789 2216.89 212.631 Q2218.97 211.474 2221.68 211.474 Q2226.14 211.474 2228.44 214.252 Q2230.73 217.006 2230.73 222.377 Z\" fill=\"#000000\" fill-rule=\"evenodd\" fill-opacity=\"1\" /><polyline clip-path=\"url(#clip350)\" style=\"stroke:#e26f46; stroke-linecap:butt; stroke-linejoin:round; stroke-width:4; stroke-opacity:1; fill:none\" points=\"\n",
       "  1954.84,272.585 2101.28,272.585 \n",
       "  \"/>\n",
       "<path clip-path=\"url(#clip350)\" d=\"M2133.09 256.578 L2133.09 263.939 L2141.86 263.939 L2141.86 267.249 L2133.09 267.249 L2133.09 281.323 Q2133.09 284.494 2133.95 285.397 Q2134.83 286.3 2137.49 286.3 L2141.86 286.3 L2141.86 289.865 L2137.49 289.865 Q2132.56 289.865 2130.68 288.036 Q2128.81 286.184 2128.81 281.323 L2128.81 267.249 L2125.68 267.249 L2125.68 263.939 L2128.81 263.939 L2128.81 256.578 L2133.09 256.578 Z\" fill=\"#000000\" fill-rule=\"evenodd\" fill-opacity=\"1\" /><path clip-path=\"url(#clip350)\" d=\"M2169.64 275.837 L2169.64 277.92 L2150.06 277.92 Q2150.33 282.318 2152.7 284.633 Q2155.08 286.925 2159.32 286.925 Q2161.77 286.925 2164.06 286.323 Q2166.38 285.721 2168.64 284.517 L2168.64 288.545 Q2166.35 289.517 2163.95 290.027 Q2161.54 290.536 2159.06 290.536 Q2152.86 290.536 2149.22 286.925 Q2145.61 283.314 2145.61 277.156 Q2145.61 270.791 2149.04 267.064 Q2152.49 263.314 2158.32 263.314 Q2163.55 263.314 2166.58 266.693 Q2169.64 270.05 2169.64 275.837 M2165.38 274.587 Q2165.33 271.092 2163.41 269.008 Q2161.52 266.925 2158.37 266.925 Q2154.8 266.925 2152.65 268.939 Q2150.52 270.953 2150.2 274.61 L2165.38 274.587 Z\" fill=\"#000000\" fill-rule=\"evenodd\" fill-opacity=\"1\" /><path clip-path=\"url(#clip350)\" d=\"M2193.16 264.703 L2193.16 268.731 Q2191.35 267.805 2189.41 267.342 Q2187.46 266.879 2185.38 266.879 Q2182.21 266.879 2180.61 267.851 Q2179.04 268.823 2179.04 270.768 Q2179.04 272.249 2180.17 273.105 Q2181.31 273.939 2184.73 274.703 L2186.19 275.027 Q2190.73 275.999 2192.63 277.781 Q2194.55 279.541 2194.55 282.712 Q2194.55 286.323 2191.68 288.429 Q2188.83 290.536 2183.83 290.536 Q2181.75 290.536 2179.48 290.119 Q2177.23 289.726 2174.73 288.916 L2174.73 284.517 Q2177.09 285.744 2179.39 286.369 Q2181.68 286.971 2183.92 286.971 Q2186.93 286.971 2188.55 285.953 Q2190.17 284.911 2190.17 283.036 Q2190.17 281.3 2188.99 280.374 Q2187.83 279.448 2183.88 278.592 L2182.39 278.244 Q2178.44 277.411 2176.68 275.698 Q2174.92 273.962 2174.92 270.953 Q2174.92 267.295 2177.51 265.305 Q2180.1 263.314 2184.87 263.314 Q2187.23 263.314 2189.32 263.661 Q2191.4 264.008 2193.16 264.703 Z\" fill=\"#000000\" fill-rule=\"evenodd\" fill-opacity=\"1\" /><path clip-path=\"url(#clip350)\" d=\"M2205.54 256.578 L2205.54 263.939 L2214.32 263.939 L2214.32 267.249 L2205.54 267.249 L2205.54 281.323 Q2205.54 284.494 2206.4 285.397 Q2207.28 286.3 2209.94 286.3 L2214.32 286.3 L2214.32 289.865 L2209.94 289.865 Q2205.01 289.865 2203.14 288.036 Q2201.26 286.184 2201.26 281.323 L2201.26 267.249 L2198.14 267.249 L2198.14 263.939 L2201.26 263.939 L2201.26 256.578 L2205.54 256.578 Z\" fill=\"#000000\" fill-rule=\"evenodd\" fill-opacity=\"1\" /></svg>\n"
      ]
     },
     "execution_count": 97,
     "metadata": {},
     "output_type": "execute_result"
    }
   ],
   "source": [
    "plot(error_train, title = \"Train vs Test error\", label = \"train\", lw = 2)\n",
    "plot!(error_test, label = \"test\", lw = 2)"
   ]
  },
  {
   "cell_type": "code",
   "execution_count": 120,
   "id": "338c4a29-69b7-4ff5-8cc1-49d6d9af5446",
   "metadata": {},
   "outputs": [
    {
     "data": {
      "text/plain": [
       "10×10000 Matrix{Float64}:\n",
       " 0.0853367  0.0853367  0.0853367  …  0.0853367  0.0853367  0.0853367\n",
       " 0.0853367  0.0853367  0.231969      0.0853367  0.0853367  0.0853367\n",
       " 0.0853367  0.231969   0.0853367     0.0853367  0.0853367  0.0853367\n",
       " 0.0853367  0.0853367  0.0853367     0.0853367  0.0853367  0.0853367\n",
       " 0.0853367  0.0853367  0.0853367     0.231969   0.0853367  0.0853367\n",
       " 0.0853367  0.0853367  0.0853367  …  0.0853367  0.231969   0.0853367\n",
       " 0.0853367  0.0853367  0.0853367     0.0853367  0.0853367  0.231969\n",
       " 0.231969   0.0853367  0.0853367     0.0853367  0.0853367  0.0853367\n",
       " 0.0853367  0.0853367  0.0853367     0.0853367  0.0853367  0.0853367\n",
       " 0.0853367  0.0853367  0.0853367     0.0853367  0.0853367  0.0853367"
      ]
     },
     "execution_count": 120,
     "metadata": {},
     "output_type": "execute_result"
    }
   ],
   "source": [
    "predictions = predict(network, test_x)"
   ]
  },
  {
   "cell_type": "code",
   "execution_count": 127,
   "id": "d46c4f54-c36f-466d-93e5-f85281ab398f",
   "metadata": {},
   "outputs": [],
   "source": [
    "preds = (floor.(predictions .- maximum(predictions, dims =1)).+1);"
   ]
  },
  {
   "cell_type": "code",
   "execution_count": 130,
   "id": "18c79ef5-32fd-4ec5-9b00-a2091c930bf9",
   "metadata": {},
   "outputs": [
    {
     "data": {
      "text/plain": [
       "10×10 Matrix{Float64}:\n",
       " 964.0     1.0    13.0    4.0    2.0   27.0   15.0    2.0   19.0   12.0\n",
       "   6.0  1121.0     3.0    4.0    1.0   16.0    7.0    8.0   12.0   17.0\n",
       "  10.0   144.0  1012.0  145.0   18.0   29.0   35.0  133.0   92.0   11.0\n",
       "   6.0     4.0    12.0  942.0    1.0   76.0    6.0    4.0   28.0   16.0\n",
       "   8.0     5.0    24.0    2.0  976.0   38.0   45.0   16.0   66.0  110.0\n",
       "  11.0     1.0     3.0   75.0    1.0  831.0   18.0    2.0   32.0   14.0\n",
       "  25.0     4.0     7.0    3.0    6.0   46.0  929.0    2.0   32.0   10.0\n",
       "  12.0     8.0    33.0   23.0    3.0   21.0    5.0  993.0   16.0   42.0\n",
       "   8.0    11.0    25.0   41.0    4.0   38.0    8.0    4.0  913.0   22.0\n",
       "   7.0     1.0     3.0    5.0   34.0   25.0    4.0   24.0   22.0  935.0"
      ]
     },
     "execution_count": 130,
     "metadata": {},
     "output_type": "execute_result"
    }
   ],
   "source": [
    "mat = preds * test_y'"
   ]
  },
  {
   "cell_type": "code",
   "execution_count": 141,
   "id": "987d0639-2017-4bcb-9c45-dc94fe125bd4",
   "metadata": {},
   "outputs": [
    {
     "data": {
      "text/plain": [
       "0.8282515073212747"
      ]
     },
     "execution_count": 141,
     "metadata": {},
     "output_type": "execute_result"
    }
   ],
   "source": [
    "score = sum([mat[i,i] for i in 1:size(mat,1)])/sum(mat)"
   ]
  },
  {
   "cell_type": "code",
   "execution_count": 199,
   "id": "33cf2554-f79e-43e4-a130-13547caf1c6d",
   "metadata": {},
   "outputs": [
    {
     "data": {
      "text/plain": [
       "10×60000 Matrix{Float64}:\n",
       " 0.0  1.0  0.0  0.0  0.0  0.0  0.0  0.0  …  0.0  0.0  0.0  0.0  0.0  0.0  0.0\n",
       " 0.0  0.0  0.0  1.0  0.0  0.0  1.0  0.0     0.0  1.0  0.0  0.0  0.0  0.0  0.0\n",
       " 0.0  0.0  0.0  0.0  0.0  1.0  0.0  0.0     0.0  0.0  0.0  0.0  0.0  0.0  0.0\n",
       " 0.0  0.0  0.0  0.0  0.0  0.0  0.0  1.0     0.0  0.0  0.0  1.0  0.0  0.0  0.0\n",
       " 0.0  0.0  1.0  0.0  0.0  0.0  0.0  0.0     0.0  0.0  0.0  0.0  0.0  0.0  0.0\n",
       " 1.0  0.0  0.0  0.0  0.0  0.0  0.0  0.0  …  1.0  0.0  0.0  0.0  1.0  0.0  0.0\n",
       " 0.0  0.0  0.0  0.0  0.0  0.0  0.0  0.0     0.0  0.0  0.0  0.0  0.0  1.0  0.0\n",
       " 0.0  0.0  0.0  0.0  0.0  0.0  0.0  0.0     0.0  0.0  0.0  0.0  0.0  0.0  0.0\n",
       " 0.0  0.0  0.0  0.0  0.0  0.0  0.0  0.0     0.0  0.0  1.0  0.0  0.0  0.0  1.0\n",
       " 0.0  0.0  0.0  0.0  1.0  0.0  0.0  0.0     0.0  0.0  0.0  0.0  0.0  0.0  0.0"
      ]
     },
     "execution_count": 199,
     "metadata": {},
     "output_type": "execute_result"
    }
   ],
   "source": [
    "train_y"
   ]
  },
  {
   "cell_type": "code",
   "execution_count": 173,
   "id": "8fb39835-a81e-4c93-9181-5c03c0c2b85a",
   "metadata": {},
   "outputs": [],
   "source": [
    "using MLDatasets"
   ]
  },
  {
   "cell_type": "code",
   "execution_count": 176,
   "id": "9ae55dfa-c79a-4cc9-afaf-ca7ed7a5cf05",
   "metadata": {},
   "outputs": [],
   "source": [
    "using Images"
   ]
  },
  {
   "cell_type": "code",
   "execution_count": 174,
   "id": "6595eaea-4238-41cd-83e8-065dbace53a8",
   "metadata": {},
   "outputs": [],
   "source": [
    "t, _ = MNIST.testdata();"
   ]
  },
  {
   "cell_type": "code",
   "execution_count": 184,
   "id": "21eb8404-54b9-4680-ac77-fc37c12971c2",
   "metadata": {},
   "outputs": [
    {
     "data": {
      "text/html": [
       "<table><tbody><tr><td style='text-align:center;vertical-align:middle; margin: 0.5em;border:1px #90999f solid;border-collapse:collapse'><img style='max-width: 100px; max-height:100px;display:inline' src=\"data:image/png;base64,iVBORw0KGgoAAAANSUhEUgAAAHAAAABwCAAAAADji6uXAAAABGdBTUEAALGPC/xhBQAAAAFzUkdCAK7OHOkAAAAgY0hSTQAAeiYAAICEAAD6AAAAgOgAAHUwAADqYAAAOpgAABdwnLpRPAAAAdBJREFUaAW9wb1qlgcABtCDeToUXLRU6FB/cOtSgggFWyh0EV0EvYXUoXQpBFxCQYdAxg7egeAFlBIKKXTRJYv4UyrGwYoIhQS0Q1ChDu8QBL/4vfnCc06URVmURVmURVmURVmURVmURVmURVmURVmURVmURVmURVmURVmURVmURVlMcAkLeIZt3MBzPDKbKIuyKIsJVnDcjst4ift29xQrWPd+URZlURYTLOBLPMAXmMe3+Ar/4HM73uBffGbwBOveL8qiLMpigjWsGawaHMI81nHajm08xF84jMcmi7Ioi7IYYQt/GKx510Ucwl3cNFmURVmUxT44gus4gKvYNFmURVmUxT74AZ9iC3/bXZRFWZTFjM7gisEF3LO7KIuyKIsZncNHWMNtHxZlURZlMYOPcRav8DNe+7Aoi7IoixksYh6ruGU6URZlURZ7dB5LeIFrphdlURZlsQef4BfM4TfcNr0oi7Ioi5HmsIoT2MCScaIsyqIsRjqJUwY/YcM4URZlURYjHMPvBov41XhRFmVRFiN8j6MGf+J/40VZlEVZTOkb/Gh2URZlURZT+hoHDTbwn72JsiiLshjpDr7Dpr2JsiiLspjSMpbNLsqiLMreApamPWWOWvFrAAAAAElFTkSuQmCC\"></td><td style='text-align:center;vertical-align:middle; margin: 0.5em;border:1px #90999f solid;border-collapse:collapse'><img style='max-width: 100px; max-height:100px;display:inline' src=\"data:image/png;base64,iVBORw0KGgoAAAANSUhEUgAAAHAAAABwCAAAAADji6uXAAAABGdBTUEAALGPC/xhBQAAAAFzUkdCAK7OHOkAAAAgY0hSTQAAeiYAAICEAAD6AAAAgOgAAHUwAADqYAAAOpgAABdwnLpRPAAAAfJJREFUaAW9wb+LlwUAB+BH+NxFk6RDuJY4KCiELc2hSynGyUG4t7T4myIQIhv8B9oaquWIRIoENwVBhYYIJBdBXYyQQDxcLGl4hy/Hcfd93xM+zxNlURZlURZlURZlURZlURZlURYjncHr2I8lg29wC98bL8qiLMpihBUsmXlp8Anexw08Mk6URVmUxRwrWDJzD9fwFj7E2ziBr40TZVEWZbGJgzhmcBdH8ASrWMRtHMAO40VZlEVZbGIXtuEuDuOxmTPYa/Cr8aIsyqIsNvELduMZ/rHWMhZMF2VRFmUxx0PrncUegzu4Y7woi7Ioi4k+wJdYxN/4DM+NF2VRFmUx0UEsGqzghmmiLMqiLCa4gkMG3+EL00VZlEVZjLQL7+E1PMFXWDVdlEVZlMVIP2GnwQ+4b2uiLMqiLEY4gncMruOCrYuyKIuymGMnPseCwe9YtXVRFmVRFnOcxrsGV3DBq4myKIuymOOUmU+x6tVEWZRFWUywAy+s9RQvsIDtBm/gpJn/cB7PEWVRFmUxwR/W+xGP8SaWbewvXESURVmUxRxXcdTGjlvrX7w0+Bm/Gdw0iLIoi7KY4yOcw4KZfVg28y0eGFzGnzYWZVEWZTHCJet9bGuiLMqiLMqiLMqiLMqiLMqiLMqiLMqiLMqiLMqi7H/OJEPbCQ/VLAAAAABJRU5ErkJg\"></td><td style='text-align:center;vertical-align:middle; margin: 0.5em;border:1px #90999f solid;border-collapse:collapse'><img style='max-width: 100px; max-height:100px;display:inline' src=\"data:image/png;base64,iVBORw0KGgoAAAANSUhEUgAAAHAAAABwCAAAAADji6uXAAAABGdBTUEAALGPC/xhBQAAAAFzUkdCAK7OHOkAAAAgY0hSTQAAeiYAAICEAAD6AAAAgOgAAHUwAADqYAAAOpgAABdwnLpRPAAAAWdJREFUaAW9wa1qkGEABtADPmnRoDZNLg0VLArDYBMEL0EvQGxehG14BzZhKMhggskurKrNYFpYGgjDn/BdgN/7fvCcE2VRFmVRFmVRFmVRFmVRFmVRFmVRFmVRFhvdxFe8wGv/F2VRFmWx0R38wU/rRFmURVlsdBvneGedKIuyKIsN9vAcb6wXZVEWZbHBLnbw1npRFmVRFhu8xA98sV6URVmUxaQbuIvvOLdelEVZlMWkBxanxkRZlEVZTNqzeGVMlEVZlMWEe3iGE3wyJsqiLMpiwkNcxkf8MibKoizKYsIt/MWhcVEWZVEWg65hH9/w3rgoi7Ioi0FPcQXH5kRZlEVZDLpucWZOlEVZlMWgxxZH5kRZlEVZDNjHVdtEWZRFWQx4gks4wWdzoizKoixW2sEji0P8NifKoizKYqULnOEDDsyLsiiLsljpAvdtF2VRFmVRFmVRFmVRFmVRFmVRFmVRFmX/AEaoI5eSej8QAAAAAElFTkSuQmCC\"></td><td style='text-align:center;vertical-align:middle; margin: 0.5em;border:1px #90999f solid;border-collapse:collapse'><img style='max-width: 100px; max-height:100px;display:inline' src=\"data:image/png;base64,iVBORw0KGgoAAAANSUhEUgAAAHAAAABwCAAAAADji6uXAAAABGdBTUEAALGPC/xhBQAAAAFzUkdCAK7OHOkAAAAgY0hSTQAAeiYAAICEAAD6AAAAgOgAAHUwAADqYAAAOpgAABdwnLpRPAAAAgtJREFUaAW9wSGInQUAB/DfPf+CaN0FLWoa2ESmTcEm7GAMxIEGGeyGCJosLsiCCCdocWxoMVo0HDLGmmcTF1a2JPgshm1BEMvgw/DC43jvvvcdB//fL8qiLMqiLMqiLMqiLMqiLMqiLMqiLMqiLI7pGXyJy7iDtzE3XZRFWZTFMT2HSxjwCs7imumiLMqiLI5hG987mSiLsiiLiT7CObzqsNcxw10c2CzKoizKYqKvMVh1Hucxxzu4Y1yURVmUxQQ3MbPqEf7F83gRv+EJ46IsyqIsNngDpzFgsHQDt/EP3sQVCx/guqNFWZRFWYx4AT/glKU5fsRV/Gdhjl1sYw9P4Rs8tirKoizKYsSTOGXpF1zAQ4fN8QW+wtPYwz7+sCrKoizKYqLfcREPrbePd3HGuCiLsiiLDWYWXjNuCzPMLFzFe1ZFWZRFWYy4jME0O3gZAwZ8Zr0oi7IoixE7NtvGS/jU0gM8tl6URVmUxQldwYeW/sT7+Mt6URZlURYncBOnHXYfvzpalEVZlMWILcwsvGXhOzxrYYbBYWeNi7Ioi7IYcR17Fn7GYGGwNFi6YbMoi7IoixE/4RNsO9oD3Mcu/rZZlEVZlMWIOS7gHD623ue4Zrooi7Ioiw0OcIDb2MUO9vEttnDP8URZlEVZTHQLt5xclEVZlEVZlEVZlEVZlEVZlEVZlEVZlP0PiWhNcb8XyIEAAAAASUVORK5C\"></td><td style='text-align:center;vertical-align:middle; margin: 0.5em;border:1px #90999f solid;border-collapse:collapse'><img style='max-width: 100px; max-height:100px;display:inline' src=\"data:image/png;base64,iVBORw0KGgoAAAANSUhEUgAAAHAAAABwCAAAAADji6uXAAAABGdBTUEAALGPC/xhBQAAAAFzUkdCAK7OHOkAAAAgY0hSTQAAeiYAAICEAAD6AAAAgOgAAHUwAADqYAAAOpgAABdwnLpRPAAAAddJREFUaAW9wa+L1gcAB+Dn4AOKhsFxWBYUro1d2NJMsrKhQ8tUBJOG/QGrFmFoMLimUUy3ILZVMdgUHDi4opbVIcJ23GDoa3iDHNz3h7zweZ4oi7Ioi7Ioi7Ioi7Ioi7Ioi7Ioi7Ioi7Ioi7Ioi7KY6Ws8xAnDvsMO/jIsyqIsymKm73HIuHO4ikuGRVmURVnMEJwx7Rl+xlHsOliURVmUxQzf4iRuGbeOL3AEuw4WZVEWZTFhC9t4hZvGnTMtyqIsymLCNRzFafxr2DpO4b1xURZlURYjzuMMXuKpcdfwHo/x1rAoi7IoixEXcAR3jTuBy3iHG/jfsCiLsiiLAZ/hG0t3jPsJG9jBI+OiLMqiLAYcwuf4zbRNS3+aFmVRFmUx4B/8gS2s442DHcN5S09Mi7Ioi7IYsIdX+BG/47b9vsQmjmNhaWFalEVZlMWI61jDD9i2399YYMNH90yLsiiLshixg4v4Cpv2e2DpPi5b2jMtyqIsymKG53juYK99tIUXxkVZlEVZrGgNa5ZemBZlURZlsaIFFuaLsiiLsljRYUv/mSfKoizKYkVX8Ba/mCfKoizKYkVP8SsemSfKoizKYkVnfZooi7Ioi7Ioi7Ioi7Ioi7Io+wCd4zwvkM6rGAAAAABJRU5ErkJg\"></td><td style='text-align:center;vertical-align:middle; margin: 0.5em;border:1px #90999f solid;border-collapse:collapse'><img style='max-width: 100px; max-height:100px;display:inline' src=\"data:image/png;base64,iVBORw0KGgoAAAANSUhEUgAAAHAAAABwCAAAAADji6uXAAAABGdBTUEAALGPC/xhBQAAAAFzUkdCAK7OHOkAAAAgY0hSTQAAeiYAAICEAAD6AAAAgOgAAHUwAADqYAAAOpgAABdwnLpRPAAAAXpJREFUaAW9waFqlmEABtDDeMQL+KNGm2BRy5BFm0GwLJu9AdlNiKADwSSYlwS9hIF4ASYZJsMWxKHOGd6wtv3v98NzTpRFWZRFWZRFWZRFWZRFWZRFWZRFWZRFWZRFWZRFWWzoEQ7wDPs4c7koi7Ioiw2s8MrwEm/xy+WiLMqiLDawgxuG9zh1tSiLsiiLha7juQvvcO5qURZlURYL3cFdw198sJ4oi7Ioi4Ueu/DR+qIsyqIsFtox/Mae9UVZlEVZLLCNbcNPfLG+KIuyKIsF7rvw2pwoi7IoiwXuGY6xb06URVmUxaQH2DWc4MicKIuyKItJK2wZPpkXZVEWZTHpieEYb8yLsiiLsphwE7uGIxyaF2VRFmUxYRtbhgPLRFmURVlMWBl+4IVloizKoiwmPDR8w4lloizKoizWdA23DKf4Y5koi7IoizX9wyFu46vloizKoizWdIY9nOOz5aIsyqIsJnzHU5uJsiiLsiiLsiiLsiiLsiiLsv+DFCqQxh4mOwAAAABJRU5ErkJg\"></td><td style='text-align:center;vertical-align:middle; margin: 0.5em;border:1px #90999f solid;border-collapse:collapse'><img style='max-width: 100px; max-height:100px;display:inline' src=\"data:image/png;base64,iVBORw0KGgoAAAANSUhEUgAAAHAAAABwCAAAAADji6uXAAAABGdBTUEAALGPC/xhBQAAAAFzUkdCAK7OHOkAAAAgY0hSTQAAeiYAAICEAAD6AAAAgOgAAHUwAADqYAAAOpgAABdwnLpRPAAAAf1JREFUaAW9wT+o1QUABtDz4Fsc5KGY0mirBCINLZk4JUJLOCkJGiSCQ6gIIkI6O7QkCEKRi3/ApUBEEAzcntjgJIk0BPkIBcFByetwh3jovb/rffCdE2VRFmVRFmVRFmVRFmVRFmVRFmVRFmVRFmVRFmVRFjPYiCu4iwt4bLpFbMcNvLJSlEVZlMWAdXiARfyDx6ZbxBI+wCd4aKUoi7Ioiyk24DLW40ccMewUNuNbPPS2KIuyKIsptmGHsTOGbcFRXMdl7xZlURZlMcFGfGXsIJZNtwW3jF3Hc+8WZVEWZTHBOezDEq4a9hk24SdcMlmURVmUxQQjvMbfeGmyNTiJwxjhgOmiLMqiLAbsxk08w3krfY4d+NTYNcOiLMqiLCb4ATvxIbZjAV9aaQEjY49w0rAoi7IoiwmW8DG24gscxzJ+9r9f8Iexu/jTsCiLsiiLKZ7iNm7jhLd9hAXcxzGzibIoi7JYhdMY4QSWzSbKoizKYk578DWe41+zi7Ioi7KY0y5jv+Ke2UVZlEVZzGkXXuCc9xNlURZlMYdD2IQnuOf9RFmURVnM4RBG+M3YWqzDX4ZFWZRFWazCf9iL7/AA+w2LsiiLsliFb3AQF3HWbKIsyqIs5nAE3+MOzuMpXppNlEVZlMUcfsdO84myKIuyKIuyKIuyKIuyKIuyN7oRS4hClSEAAAAAAElFTkSuQmCC\"></td><td style='text-align:center;vertical-align:middle; margin: 0.5em;border:1px #90999f solid;border-collapse:collapse'><img style='max-width: 100px; max-height:100px;display:inline' src=\"data:image/png;base64,iVBORw0KGgoAAAANSUhEUgAAAHAAAABwCAAAAADji6uXAAAABGdBTUEAALGPC/xhBQAAAAFzUkdCAK7OHOkAAAAgY0hSTQAAeiYAAICEAAD6AAAAgOgAAHUwAADqYAAAOpgAABdwnLpRPAAAAg5JREFUaAW9wT+IlgUAB+Bn+EEtKdrSUEhaUJLQULMEByXCSXEkKSENUZA0CeZygWJCDQm3OxjRHyIKGr+tpbEcbggCcSqiQyXyMOga3kGOU9/34PP3PFEWZVEWZVEWZVEWZVEWZVEWZVEWZVEWZVEWZVEWZVEWZVEWZbENO3ABz2EB/9q+KIuyKIuJjuM8njDYgb9sX5RFWZTFBI/jIh7FhsEKTmLN9kRZlEVZTHAKu212FK/gPFZw2zRRFmVRFiP24C2DK/gDCwY7cQqf43fTRFmURVmMeB6P4EccxMM4hjPYh8fwPQ5hzbgoi7IoixEPYQOfGqzjEpaw1+Af3DZNlEVZlMWINwwO4zt3vOCOn/C3aaIsyqIsRnyBRbyIZ3AAr2IXrmMX3sZnWDUuyqIsymLEDDdwAKvYMJjhPfyAp/E+3jUuyqIsymLEGl7HN9hpsILTWMe3+AAvYx9+c39RFmVRFhPMsIRjuI5lrBucw7NYxDJOuL8oi7Ioi4lmmNnqFr7CIl7Cbqy5tyiLsiiLOfgaiziKkzjr3qIsyqIs5uA/fIwj+BBf4ld3F2VRFmUxJz9jGZ/gI7yJW7aKsiiLspijy3gHr+EsrtgqyqIsymKO/sQCruI0jtsqyqIsymLOrmGGI9iPVZtFWZRFWTwAS/gFT2HVZlEWZVEWD8BNPOnuoizKoizKoizKoux/3WVPtAH1q94AAAAASUVORK5C\"></td><td style='text-align:center;vertical-align:middle; margin: 0.5em;border:1px #90999f solid;border-collapse:collapse'><img style='max-width: 100px; max-height:100px;display:inline' src=\"data:image/png;base64,iVBORw0KGgoAAAANSUhEUgAAAHAAAABwCAAAAADji6uXAAAABGdBTUEAALGPC/xhBQAAAAFzUkdCAK7OHOkAAAAgY0hSTQAAeiYAAICEAAD6AAAAgOgAAHUwAADqYAAAOpgAABdwnLpRPAAAAhhJREFUaAW9wb+rlQUABuBHe8tAGwJtqtuQuDQYiRBBYLQISRRI5NBYgw2piwZiCkpD/QFBQ8MlB8cgiEtBQ2DRcAkUQxquchv6sTiYECkN33CGvuM5pw7v80RZlEVZlEVZlEVZlEVZlEVZlEVZlEVZlMUSPIoVEzdwHFdwHT+aiLIoi7L4H17GKziA3Sau40lsM3jARJRFWZTFgp7CO3gbD2OLf9tjuiiLsiiLBT2Od033E66aLsqiLMpihp04hm/xJf7CLdzGdqzhCr7HOu7gtumiLMqiLO5jO9awF68ZXMaz2MAKNnHP/KIsyqIspngIF7EXH+ArExsGNy0uyqIsymLEDryHQ/gDH+JPyxFlURZlMeJVnMJNvIBblifKoizKYsTzBuvYtFxRFmVRFiMOGxzE+/gc65YjyqIsymLELtzDNpzBaXyM77CCn3HV4Glcxqb5RFmURVmM+AgnTGzFURw17nd8gzfMFmVRFmUx4hQu4TMET2Cr6XbhME7jvPuLsiiLshhxFz9gj8FLeBBnsd+4LdhntiiLsiiLOXxt8Az24298ik9wHEfML8qiLMpiAWu4gOAt7MYBE7+YLcqiLMpiAddwCa8bvGhwF1/gpNmiLMqiLBZwB8fwCPbhMWxgFWfNJ8qiLMpiQb/iEN7EcziH38wvyqIsyuI/WsWqxUVZlEVZlEVZlEVZlEVZlEVZlEVZlEXZP7tATad0MYkTAAAAAElFTkSuQmCC\"></td><td style='text-align:center;vertical-align:middle; margin: 0.5em;border:1px #90999f solid;border-collapse:collapse'><img style='max-width: 100px; max-height:100px;display:inline' src=\"data:image/png;base64,iVBORw0KGgoAAAANSUhEUgAAAHAAAABwCAAAAADji6uXAAAABGdBTUEAALGPC/xhBQAAAAFzUkdCAK7OHOkAAAAgY0hSTQAAeiYAAICEAAD6AAAAgOgAAHUwAADqYAAAOpgAABdwnLpRPAAAAjhJREFUaAW9wb2L1gUAB/DPcd+oQaPswCGqpSGHXqYTapGgJSg4CeoPcEiECqFDpCGwTdIQImuIsGiTtmjJgl6GoKEiIhqCoMQsOOhFy85r+A3H8fTo73mM7+cTZVEWZVEWZVEWZVEWZVEWZVEWZVEWZVEWZVEWZVEWZVEWZVEWZVEWZVEWc7gTS1jBHlzGSXyK71xZlEVZlMUM7sYB7MWSrXbjH3yLj/E0/jYpyqIsymKEe3AAj+NGgx/xEb7HKj7HMnbgYXyBkyZFWZRFWVzFq1jBksH7+AqHcdHgfuzH67gP5/AyTuO8raIsyqIsprgBq9iHBZzHKziKP2x1CxbxPN7DHaaLsiiLsphiD57FAn7CXnxmq0XchlN4FzcbLOBNrJkUZVEWZTHFItYNLmE3HsNdBhewC7vwC3badA4v4JJJURZlURZTnMEHeAi34wQ2DNaxaNNOg8t4B0/hrP8WZVEWZTHFBazgJhzCA/gVP+B63ItlW72Gw1gzXZRFWZTFVazhkEmnsGzwGw7iDay7siiLsiiLOaziCZv2423jRFmURVnMaB+eQwy+xmnjRVmURVnMYBkvYpvB73gSfxkvyqIsymIGj2C7wZ94FJ+YTZRFWZTFSNuxatNb+NDsoizKoixG2IZvcJ3Bl3jGfKIsyqIsRngQt2LD4CAumk+URVmUxQhHsGFwFGfML8qiLMpihB1YwM94ybWJsiiLshjhGI7hCM66NlEWZVEWIxzHcf+PKIuyKPsXNwdYfgiRxs8AAAAASUVORK5C\"></td></tr></tbody></table><div><small>(a vector displayed as a row to save space)</small></div>"
      ],
      "text/plain": [
       "10-element Vector{Matrix{Gray{N0f8}}}:\n",
       " [Gray{N0f8}(0.0) Gray{N0f8}(0.0) … Gray{N0f8}(0.0) Gray{N0f8}(0.0); Gray{N0f8}(0.0) Gray{N0f8}(0.0) … Gray{N0f8}(0.0) Gray{N0f8}(0.0); … ; Gray{N0f8}(0.0) Gray{N0f8}(0.0) … Gray{N0f8}(0.0) Gray{N0f8}(0.0); Gray{N0f8}(0.0) Gray{N0f8}(0.0) … Gray{N0f8}(0.0) Gray{N0f8}(0.0)]\n",
       " [Gray{N0f8}(0.0) Gray{N0f8}(0.0) … Gray{N0f8}(0.0) Gray{N0f8}(0.0); Gray{N0f8}(0.0) Gray{N0f8}(0.0) … Gray{N0f8}(0.0) Gray{N0f8}(0.0); … ; Gray{N0f8}(0.0) Gray{N0f8}(0.0) … Gray{N0f8}(0.0) Gray{N0f8}(0.0); Gray{N0f8}(0.0) Gray{N0f8}(0.0) … Gray{N0f8}(0.0) Gray{N0f8}(0.0)]\n",
       " [Gray{N0f8}(0.0) Gray{N0f8}(0.0) … Gray{N0f8}(0.0) Gray{N0f8}(0.0); Gray{N0f8}(0.0) Gray{N0f8}(0.0) … Gray{N0f8}(0.0) Gray{N0f8}(0.0); … ; Gray{N0f8}(0.0) Gray{N0f8}(0.0) … Gray{N0f8}(0.0) Gray{N0f8}(0.0); Gray{N0f8}(0.0) Gray{N0f8}(0.0) … Gray{N0f8}(0.0) Gray{N0f8}(0.0)]\n",
       " [Gray{N0f8}(0.0) Gray{N0f8}(0.0) … Gray{N0f8}(0.0) Gray{N0f8}(0.0); Gray{N0f8}(0.0) Gray{N0f8}(0.0) … Gray{N0f8}(0.0) Gray{N0f8}(0.0); … ; Gray{N0f8}(0.0) Gray{N0f8}(0.0) … Gray{N0f8}(0.0) Gray{N0f8}(0.0); Gray{N0f8}(0.0) Gray{N0f8}(0.0) … Gray{N0f8}(0.0) Gray{N0f8}(0.0)]\n",
       " [Gray{N0f8}(0.0) Gray{N0f8}(0.0) … Gray{N0f8}(0.0) Gray{N0f8}(0.0); Gray{N0f8}(0.0) Gray{N0f8}(0.0) … Gray{N0f8}(0.0) Gray{N0f8}(0.0); … ; Gray{N0f8}(0.0) Gray{N0f8}(0.0) … Gray{N0f8}(0.0) Gray{N0f8}(0.0); Gray{N0f8}(0.0) Gray{N0f8}(0.0) … Gray{N0f8}(0.0) Gray{N0f8}(0.0)]\n",
       " [Gray{N0f8}(0.0) Gray{N0f8}(0.0) … Gray{N0f8}(0.0) Gray{N0f8}(0.0); Gray{N0f8}(0.0) Gray{N0f8}(0.0) … Gray{N0f8}(0.0) Gray{N0f8}(0.0); … ; Gray{N0f8}(0.0) Gray{N0f8}(0.0) … Gray{N0f8}(0.0) Gray{N0f8}(0.0); Gray{N0f8}(0.0) Gray{N0f8}(0.0) … Gray{N0f8}(0.0) Gray{N0f8}(0.0)]\n",
       " [Gray{N0f8}(0.0) Gray{N0f8}(0.0) … Gray{N0f8}(0.0) Gray{N0f8}(0.0); Gray{N0f8}(0.0) Gray{N0f8}(0.0) … Gray{N0f8}(0.0) Gray{N0f8}(0.0); … ; Gray{N0f8}(0.0) Gray{N0f8}(0.0) … Gray{N0f8}(0.0) Gray{N0f8}(0.0); Gray{N0f8}(0.0) Gray{N0f8}(0.0) … Gray{N0f8}(0.0) Gray{N0f8}(0.0)]\n",
       " [Gray{N0f8}(0.0) Gray{N0f8}(0.0) … Gray{N0f8}(0.0) Gray{N0f8}(0.0); Gray{N0f8}(0.0) Gray{N0f8}(0.0) … Gray{N0f8}(0.0) Gray{N0f8}(0.0); … ; Gray{N0f8}(0.0) Gray{N0f8}(0.0) … Gray{N0f8}(0.0) Gray{N0f8}(0.0); Gray{N0f8}(0.0) Gray{N0f8}(0.0) … Gray{N0f8}(0.0) Gray{N0f8}(0.0)]\n",
       " [Gray{N0f8}(0.0) Gray{N0f8}(0.0) … Gray{N0f8}(0.0) Gray{N0f8}(0.0); Gray{N0f8}(0.0) Gray{N0f8}(0.0) … Gray{N0f8}(0.0) Gray{N0f8}(0.0); … ; Gray{N0f8}(0.0) Gray{N0f8}(0.0) … Gray{N0f8}(0.0) Gray{N0f8}(0.0); Gray{N0f8}(0.0) Gray{N0f8}(0.0) … Gray{N0f8}(0.0) Gray{N0f8}(0.0)]\n",
       " [Gray{N0f8}(0.0) Gray{N0f8}(0.0) … Gray{N0f8}(0.0) Gray{N0f8}(0.0); Gray{N0f8}(0.0) Gray{N0f8}(0.0) … Gray{N0f8}(0.0) Gray{N0f8}(0.0); … ; Gray{N0f8}(0.0) Gray{N0f8}(0.0) … Gray{N0f8}(0.0) Gray{N0f8}(0.0); Gray{N0f8}(0.0) Gray{N0f8}(0.0) … Gray{N0f8}(0.0) Gray{N0f8}(0.0)]"
      ]
     },
     "execution_count": 184,
     "metadata": {},
     "output_type": "execute_result"
    }
   ],
   "source": [
    "[Gray.(t[:,:,i]') for i in 1:10]"
   ]
  },
  {
   "cell_type": "markdown",
   "id": "0dbbd74b-6fd4-40e0-b7ca-6c960cd96ca1",
   "metadata": {},
   "source": [
    "## Saving the parameters"
   ]
  },
  {
   "cell_type": "code",
   "execution_count": 98,
   "id": "be600402-36f3-4c67-8153-a92ebc3e0e5a",
   "metadata": {},
   "outputs": [],
   "source": [
    "using JSON"
   ]
  },
  {
   "cell_type": "code",
   "execution_count": 99,
   "id": "15c0811d-9c74-4faf-9838-859aa932e102",
   "metadata": {},
   "outputs": [],
   "source": [
    "function layer2json(layer::Layer)\n",
    "    d = Dict{String, Any}(\"type\" => typeof(layer))\n",
    "    if d[\"type\"] != Softmax\n",
    "        d[\"input_size\"]  = layer.input_size\n",
    "        d[\"parameters\"]  = layer.parameters\n",
    "        d[\"activation\"]  = typeof(layer.activation)\n",
    "        d[\"num_neurons\"] = layer.num_neurons\n",
    "    end\n",
    "    return d\n",
    "end;"
   ]
  },
  {
   "cell_type": "code",
   "execution_count": 100,
   "id": "367d7f06-f1b6-4b71-aaf9-6b8cf061dc60",
   "metadata": {},
   "outputs": [],
   "source": [
    "function network2json(network::NetworkArchitecture)\n",
    "    dic = Dict{String, Any}(\"input_size\"=>network.layers[1].input_size)\n",
    "    dic[\"layers\"] = [layer2json(layer) for layer in network.layers]\n",
    "    return JSON.json(dic)\n",
    "end;"
   ]
  },
  {
   "cell_type": "code",
   "execution_count": 101,
   "id": "6606158d-2403-4915-a6c8-519784ec7c8f",
   "metadata": {},
   "outputs": [],
   "source": [
    "function save_network(network::NetworkArchitecture, f_name)\n",
    "    open(f_name*\".json\", \"w\") do file\n",
    "        write(file, network2json(network))\n",
    "    end;\n",
    "end;"
   ]
  },
  {
   "cell_type": "code",
   "execution_count": 102,
   "id": "ebecb6ce-efb7-4ffd-add1-b55b4df789f3",
   "metadata": {},
   "outputs": [
    {
     "data": {
      "text/plain": [
       "9337298"
      ]
     },
     "execution_count": 102,
     "metadata": {},
     "output_type": "execute_result"
    }
   ],
   "source": [
    "save_network(network, \"network\")"
   ]
  },
  {
   "cell_type": "code",
   "execution_count": null,
   "id": "b090a753-bab0-48cc-9235-dcf7b1d00ca0",
   "metadata": {},
   "outputs": [],
   "source": []
  }
 ],
 "metadata": {
  "kernelspec": {
   "display_name": "Julia 1.6.2",
   "language": "julia",
   "name": "julia-1.6"
  },
  "language_info": {
   "file_extension": ".jl",
   "mimetype": "application/julia",
   "name": "julia",
   "version": "1.7.0"
  }
 },
 "nbformat": 4,
 "nbformat_minor": 5
}
