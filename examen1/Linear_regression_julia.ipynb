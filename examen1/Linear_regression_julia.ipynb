{
 "cells": [
  {
   "cell_type": "markdown",
   "id": "d5751b4f-c042-4a83-abc4-e21efd9467f2",
   "metadata": {},
   "source": [
    "# Linear Regression in Julia"
   ]
  },
  {
   "cell_type": "code",
   "execution_count": 2,
   "id": "541e12fe",
   "metadata": {},
   "outputs": [],
   "source": [
    "using Statistics\n",
    "using LinearAlgebra"
   ]
  },
  {
   "cell_type": "code",
   "execution_count": 3,
   "id": "1425e901",
   "metadata": {},
   "outputs": [],
   "source": [
    "f(x) = 3+x^3;"
   ]
  },
  {
   "cell_type": "code",
   "execution_count": 6,
   "id": "e4f0bd3d",
   "metadata": {},
   "outputs": [],
   "source": [
    "y = range(-2, stop=2, length = 200);\n",
    "X = [f(x) for x in y_test];\n",
    "y = [a for a in y];"
   ]
  },
  {
   "cell_type": "code",
   "execution_count": 7,
   "id": "5d0b43bc",
   "metadata": {},
   "outputs": [],
   "source": [
    "X = [ones(size(X)[1]) X];"
   ]
  },
  {
   "cell_type": "code",
   "execution_count": 106,
   "id": "1ea69c26",
   "metadata": {},
   "outputs": [],
   "source": [
    "theta = rand(size(X)[2],1);"
   ]
  },
  {
   "cell_type": "code",
   "execution_count": 93,
   "id": "a3fa9549-1fc8-46ae-a23c-95635a424603",
   "metadata": {},
   "outputs": [
    {
     "data": {
      "text/plain": [
       "2×1 Matrix{Float64}:\n",
       " 0.5101898633389419\n",
       " 0.7418039744145006"
      ]
     },
     "execution_count": 93,
     "metadata": {},
     "output_type": "execute_result"
    }
   ],
   "source": [
    "theta"
   ]
  },
  {
   "cell_type": "code",
   "execution_count": 43,
   "id": "f1808f19-4116-4728-92c5-eae2e76176bb",
   "metadata": {},
   "outputs": [
    {
     "data": {
      "text/plain": [
       "200"
      ]
     },
     "execution_count": 43,
     "metadata": {},
     "output_type": "execute_result"
    }
   ],
   "source": [
    "m = size(X)[1]"
   ]
  },
  {
   "cell_type": "code",
   "execution_count": 44,
   "id": "e9f3a1b4-8c7e-4c67-be18-97d898bcfb02",
   "metadata": {},
   "outputs": [
    {
     "data": {
      "text/plain": [
       "1×1 Matrix{Float64}:\n",
       " NaN"
      ]
     },
     "execution_count": 44,
     "metadata": {},
     "output_type": "execute_result"
    }
   ],
   "source": [
    "transpose(theta)*theta"
   ]
  },
  {
   "cell_type": "code",
   "execution_count": 45,
   "id": "24d70acd-0054-415a-8f3a-38cdf5311e6a",
   "metadata": {},
   "outputs": [],
   "source": [
    "E(t, g) = (norm(X*t - y, 2)^2 + g*norm(t)^2) /2m;"
   ]
  },
  {
   "cell_type": "code",
   "execution_count": 67,
   "id": "ef19050b-c3a9-4c16-b660-a13c695cf441",
   "metadata": {},
   "outputs": [],
   "source": [
    "grad_E(t, g) = (t * g + transpose(X) * (X*t-y))/m;"
   ]
  },
  {
   "cell_type": "code",
   "execution_count": 55,
   "id": "8192a58f-9795-4fe0-be02-043702b9e13c",
   "metadata": {},
   "outputs": [
    {
     "data": {
      "text/plain": [
       "2×1 Matrix{Float64}:\n",
       " NaN\n",
       " NaN"
      ]
     },
     "execution_count": 55,
     "metadata": {},
     "output_type": "execute_result"
    }
   ],
   "source": [
    " (transpose(X) * (X*theta - y))"
   ]
  },
  {
   "cell_type": "code",
   "execution_count": 69,
   "id": "6ebeca3e-3f9b-4e15-8da2-9e649bada34b",
   "metadata": {},
   "outputs": [],
   "source": [
    "gamma = 1;"
   ]
  },
  {
   "cell_type": "code",
   "execution_count": 91,
   "id": "bb306e3e-15db-4edd-8d1c-bc69006fff33",
   "metadata": {},
   "outputs": [
    {
     "data": {
      "text/plain": [
       "0.1"
      ]
     },
     "execution_count": 91,
     "metadata": {},
     "output_type": "execute_result"
    }
   ],
   "source": [
    "alpha = 0.1"
   ]
  },
  {
   "cell_type": "code",
   "execution_count": 88,
   "id": "0557e716-1cc7-4740-bee3-1e5284ca65a8",
   "metadata": {},
   "outputs": [
    {
     "data": {
      "text/plain": [
       "2×1 Matrix{Float64}:\n",
       " -436239.0760116183\n",
       "      -2.60616254881659e6"
      ]
     },
     "execution_count": 88,
     "metadata": {},
     "output_type": "execute_result"
    }
   ],
   "source": [
    "theta-=alpha*grad_E(theta, gamma)"
   ]
  },
  {
   "cell_type": "code",
   "execution_count": 112,
   "id": "ae95a628-f2f1-4eac-8730-d67d7a176ee1",
   "metadata": {},
   "outputs": [],
   "source": [
    "while norm(grad_E(theta, gamma))>10^(-5)\n",
    "    theta -= alpha*grad_E(theta, gamma)\n",
    "end"
   ]
  },
  {
   "cell_type": "code",
   "execution_count": 108,
   "id": "4bd53446-8ffb-4a03-8ee3-4a64e25b0cb2",
   "metadata": {},
   "outputs": [
    {
     "data": {
      "text/plain": [
       "2×1 Matrix{Float64}:\n",
       " -1.0289925409000928\n",
       "  0.34471578229589805"
      ]
     },
     "execution_count": 108,
     "metadata": {},
     "output_type": "execute_result"
    }
   ],
   "source": [
    "function kfold(data, folds)"
   ]
  },
  {
   "cell_type": "code",
   "execution_count": 114,
   "id": "de29403e-ec3e-487f-8814-6c701d5fbb48",
   "metadata": {},
   "outputs": [
    {
     "name": "stdout",
     "output_type": "stream",
     "text": [
      "gamma = 1, error = 0.11069294391847401\n"
     ]
    }
   ],
   "source": [
    "println(\"gamma = \", gamma, \", error = \", E(theta, gamma))"
   ]
  },
  {
   "cell_type": "code",
   "execution_count": null,
   "id": "d773e5de-8e26-43ee-86cb-b07833816d2a",
   "metadata": {},
   "outputs": [],
   "source": []
  }
 ],
 "metadata": {
  "kernelspec": {
   "display_name": "Julia 1.6.2",
   "language": "julia",
   "name": "julia-1.6"
  },
  "language_info": {
   "file_extension": ".jl",
   "mimetype": "application/julia",
   "name": "julia",
   "version": "1.6.2"
  }
 },
 "nbformat": 4,
 "nbformat_minor": 5
}
